{
 "cells": [
  {
   "cell_type": "markdown",
   "metadata": {},
   "source": [
    "# <font color=orange> <center>CSCI 5901 - Process of Data Science - Assignment 2 </center>"
   ]
  },
  {
   "cell_type": "markdown",
   "metadata": {},
   "source": [
    "### <font color=purple> <center> Team Members </center></font>\n",
    "### <font color=purple> <center> Lan Chen (B00809814, lan.chen@dal.ca), Jamuna Loganath (B00811590, jamuna.loganath@dal.ca)</center>"
   ]
  },
  {
   "cell_type": "markdown",
   "metadata": {},
   "source": [
    "## <font color=blue> Q1. Collocation extraction. ( 35 marks )"
   ]
  },
  {
   "cell_type": "markdown",
   "metadata": {},
   "source": [
    "### a. Tokenize this corpus and perform part-of-speech tagging on it. ( 5 marks )"
   ]
  },
  {
   "cell_type": "markdown",
   "metadata": {},
   "source": [
    " * <font color=#008000> Before tokenizing the corpus, preprocessing has to be done to clean and massage the dataset to fetch appropriate and meaningful results. "
   ]
  },
  {
   "cell_type": "code",
   "execution_count": 17,
   "metadata": {},
   "outputs": [],
   "source": [
    "# importing necessary libraries\n",
    "from sklearn.datasets import fetch_20newsgroups\n",
    "import pandas as pd\n",
    "import numpy as np\n",
    "import nltk\n",
    "from nltk import word_tokenize\n",
    "from nltk import pos_tag\n",
    "from nltk import pos_tag_sents\n",
    "\n",
    "from nltk.collocations import *\n",
    "from sklearn.feature_extraction.text import CountVectorizer\n",
    "from sklearn.feature_extraction.text import TfidfTransformer\n",
    "from sklearn.linear_model import SGDClassifier\n",
    "from sklearn.naive_bayes import MultinomialNB\n",
    "from sklearn.linear_model import SGDClassifier\n",
    "from sklearn.model_selection import GridSearchCV\n",
    "from sklearn.pipeline import Pipeline\n",
    "from sklearn import metrics\n",
    "import matplotlib.pyplot as plt\n",
    "%matplotlib inline"
   ]
  },
  {
   "cell_type": "code",
   "execution_count": 18,
   "metadata": {
    "scrolled": true
   },
   "outputs": [
    {
     "name": "stdout",
     "output_type": "stream",
     "text": [
      "Loading 20 newsgroups dataset for categories :\n",
      "The categories are : ['alt.atheism', 'comp.graphics', 'sci.space', 'talk.religion.misc']\n",
      "There are 2034 number of documents from four categories\n",
      "There are 4 categories\n",
      "\n"
     ]
    }
   ],
   "source": [
    "# these are the four categories which we are using to train our model.\n",
    "categories = ['alt.atheism', 'comp.graphics', 'sci.space', 'talk.religion.misc']\n",
    "print(\"Loading 20 newsgroups dataset for categories :\")\n",
    "print(\"The categories are :\",categories)\n",
    "\n",
    "data = fetch_20newsgroups(subset='train', categories=categories)\n",
    "print(\"There are %d number of documents from four categories\" % len(data.filenames))\n",
    "print(\"There are %d categories\" % len(data.target_names))\n",
    "print()"
   ]
  },
  {
   "cell_type": "markdown",
   "metadata": {},
   "source": [
    " * <font color=#008000> Viewing the data_format in document"
   ]
  },
  {
   "cell_type": "code",
   "execution_count": 19,
   "metadata": {},
   "outputs": [
    {
     "data": {
      "text/html": [
       "<div>\n",
       "<style scoped>\n",
       "    .dataframe tbody tr th:only-of-type {\n",
       "        vertical-align: middle;\n",
       "    }\n",
       "\n",
       "    .dataframe tbody tr th {\n",
       "        vertical-align: top;\n",
       "    }\n",
       "\n",
       "    .dataframe thead th {\n",
       "        text-align: right;\n",
       "    }\n",
       "</style>\n",
       "<table border=\"1\" class=\"dataframe\">\n",
       "  <thead>\n",
       "    <tr style=\"text-align: right;\">\n",
       "      <th></th>\n",
       "      <th>text</th>\n",
       "      <th>target</th>\n",
       "    </tr>\n",
       "  </thead>\n",
       "  <tbody>\n",
       "    <tr>\n",
       "      <th>0</th>\n",
       "      <td>From: rych@festival.ed.ac.uk (R Hawkes)\\nSubje...</td>\n",
       "      <td>1</td>\n",
       "    </tr>\n",
       "    <tr>\n",
       "      <th>1</th>\n",
       "      <td>Subject: Re: Biblical Backing of Koresh's 3-02...</td>\n",
       "      <td>3</td>\n",
       "    </tr>\n",
       "    <tr>\n",
       "      <th>2</th>\n",
       "      <td>From: Mark.Perew@p201.f208.n103.z1.fidonet.org...</td>\n",
       "      <td>2</td>\n",
       "    </tr>\n",
       "    <tr>\n",
       "      <th>3</th>\n",
       "      <td>From: dpw@sei.cmu.edu (David Wood)\\nSubject: R...</td>\n",
       "      <td>0</td>\n",
       "    </tr>\n",
       "    <tr>\n",
       "      <th>4</th>\n",
       "      <td>From: prb@access.digex.com (Pat)\\nSubject: Con...</td>\n",
       "      <td>2</td>\n",
       "    </tr>\n",
       "  </tbody>\n",
       "</table>\n",
       "</div>"
      ],
      "text/plain": [
       "                                                text  target\n",
       "0  From: rych@festival.ed.ac.uk (R Hawkes)\\nSubje...       1\n",
       "1  Subject: Re: Biblical Backing of Koresh's 3-02...       3\n",
       "2  From: Mark.Perew@p201.f208.n103.z1.fidonet.org...       2\n",
       "3  From: dpw@sei.cmu.edu (David Wood)\\nSubject: R...       0\n",
       "4  From: prb@access.digex.com (Pat)\\nSubject: Con...       2"
      ]
     },
     "execution_count": 19,
     "metadata": {},
     "output_type": "execute_result"
    }
   ],
   "source": [
    "df = pd.DataFrame({'text': data.data,'target':data.target})\n",
    "df.head()"
   ]
  },
  {
   "cell_type": "code",
   "execution_count": 20,
   "metadata": {},
   "outputs": [
    {
     "data": {
      "text/plain": [
       "(2034, 2)"
      ]
     },
     "execution_count": 20,
     "metadata": {},
     "output_type": "execute_result"
    }
   ],
   "source": [
    "df.shape"
   ]
  },
  {
   "cell_type": "code",
   "execution_count": 21,
   "metadata": {},
   "outputs": [
    {
     "data": {
      "text/plain": [
       "2    593\n",
       "1    584\n",
       "0    480\n",
       "3    377\n",
       "Name: target, dtype: int64"
      ]
     },
     "execution_count": 21,
     "metadata": {},
     "output_type": "execute_result"
    }
   ],
   "source": [
    "df.target.value_counts()"
   ]
  },
  {
   "cell_type": "markdown",
   "metadata": {},
   "source": [
    " * <font color=#008000> Basic Preprocessing "
   ]
  },
  {
   "cell_type": "markdown",
   "metadata": {},
   "source": [
    "#### Step by step preprocessing"
   ]
  },
  {
   "cell_type": "code",
   "execution_count": 22,
   "metadata": {},
   "outputs": [
    {
     "name": "stdout",
     "output_type": "stream",
     "text": [
      "Subject: Re: Biblical Backing of Koresh's 3-02 Tape (Cites enclosed)\n",
      "From: kmcvay@oneb.almanac.bc.ca (Ken Mcvay)\n",
      "Organization: The Old Frog's Almanac\n",
      "Lines: 20\n",
      "\n",
      "In article <20APR199301460499@utarlg.uta.edu> b645zaw@utarlg.uta.edu (stephen) writes:\n",
      "\n",
      ">Seems to me Koresh is yet another messenger that got killed\n",
      ">for the message he carried. (Which says nothing about the \n",
      "\n",
      "Seems to be, barring evidence to the contrary, that Koresh was simply\n",
      "another deranged fanatic who thought it neccessary to take a whole bunch of\n",
      "folks with him, children and all, to satisfy his delusional mania. Jim\n",
      "Jones, circa 1993.\n",
      "\n",
      ">In the mean time, we sure learned a lot about evil and corruption.\n",
      ">Are you surprised things have gotten that rotten?\n",
      "\n",
      "Nope - fruitcakes like Koresh have been demonstrating such evil corruption\n",
      "for centuries.\n",
      "-- \n",
      "The Old Frog's Almanac - A Salute to That Old Frog Hisse'f, Ryugen Fisher \n",
      "     (604) 245-3205 (v32) (604) 245-4366 (2400x4) SCO XENIX 2.3.2 GT \n",
      "  Ladysmith, British Columbia, CANADA. Serving Central Vancouver Island  \n",
      "with public access UseNet and Internet Mail - home to the Holocaust Almanac\n",
      "\n"
     ]
    }
   ],
   "source": [
    "text = df.text.iloc[1]\n",
    "print(text) # we can see the raw text of a single document"
   ]
  },
  {
   "cell_type": "code",
   "execution_count": 23,
   "metadata": {},
   "outputs": [
    {
     "name": "stdout",
     "output_type": "stream",
     "text": [
      "\n",
      "\n",
      "In article <20APR199301460499@utarlg.uta.edu> b645zaw@utarlg.uta.edu (stephen) writes:\n",
      "\n",
      ">Seems to me Koresh is yet another messenger that got killed\n",
      ">for the message he carried. (Which says nothing about the \n",
      "\n",
      "Seems to be, barring evidence to the contrary, that Koresh was simply\n",
      "another deranged fanatic who thought it neccessary to take a whole bunch of\n",
      "folks with him, children and all, to satisfy his delusional mania. Jim\n",
      "Jones, circa 1993.\n",
      "\n",
      ">In the mean time, we sure learned a lot about evil and corruption.\n",
      ">Are you surprised things have gotten that rotten?\n",
      "\n",
      "Nope - fruitcakes like Koresh have been demonstrating such evil corruption\n",
      "for centuries.\n",
      "-- \n",
      "The Old Frog's Almanac - A Salute to That Old Frog Hisse'f, Ryugen Fisher \n",
      "     (604) 245-3205 (v32) (604) 245-4366 (2400x4) SCO XENIX 2.3.2 GT \n",
      "  Ladysmith, British Columbia, CANADA. Serving Central Vancouver Island  \n",
      "with public access UseNet and Internet Mail - home to the Holocaust Almanac\n",
      "\n"
     ]
    }
   ],
   "source": [
    "# Strip first block corresponding to email details\n",
    "def stripheaders(text):\n",
    "    dirt = text.split(\"\\n\\n\")[0] # locate headers as everything before first double newline and save as string\n",
    "    strip = text.replace(dirt, '') # Strip that string from full text\n",
    "    return strip\n",
    "stepbystep = stripheaders(text)\n",
    "print(stepbystep)"
   ]
  },
  {
   "cell_type": "code",
   "execution_count": 24,
   "metadata": {},
   "outputs": [
    {
     "name": "stdout",
     "output_type": "stream",
     "text": [
      "\n",
      "\n",
      "\n",
      ">Seems to me Koresh is yet another messenger that got killed\n",
      ">for the message he carried. (Which says nothing about the \n",
      "\n",
      "Seems to be, barring evidence to the contrary, that Koresh was simply\n",
      "another deranged fanatic who thought it neccessary to take a whole bunch of\n",
      "folks with him, children and all, to satisfy his delusional mania. Jim\n",
      "Jones, circa 1993.\n",
      "\n",
      ">In the mean time, we sure learned a lot about evil and corruption.\n",
      ">Are you surprised things have gotten that rotten?\n",
      "\n",
      "Nope - fruitcakes like Koresh have been demonstrating such evil corruption\n",
      "for centuries.\n",
      "-- \n",
      "The Old Frog's Almanac - A Salute to That Old Frog Hisse'f, Ryugen Fisher \n",
      "     (604) 245-3205 (v32) (604) 245-4366 (2400x4) SCO XENIX 2.3.2 GT \n",
      "  Ladysmith, British Columbia, CANADA. Serving Central Vancouver Island  \n",
      "with public access UseNet and Internet Mail - home to the Holocaust Almanac\n"
     ]
    }
   ],
   "source": [
    "# Strip lines containing \"@\" (usually emails)\n",
    "def stripcontains (text):\n",
    "    strip = \"\\n\".join([line for line in text.splitlines() if not \"@\" in line])\n",
    "    return strip\n",
    "stepbystep = stripcontains(stepbystep)\n",
    "print(stepbystep)"
   ]
  },
  {
   "cell_type": "code",
   "execution_count": 25,
   "metadata": {},
   "outputs": [
    {
     "name": "stdout",
     "output_type": "stream",
     "text": [
      "The special characters we are going to exclude from document are :\n",
      " {'^', ']', '=', '@', '~', ')', '*', '(', \"'\", '%', ',', '\"', '$', '#', '_', '/', '`', '[', '-', '.', '&', ':', '!', '{', '<', '\\\\', '}', ';', '+', '?', '|', '>'}\n",
      "\n",
      " Preprocessed Text :\n",
      " *********************\n",
      " seems koresh yet another messenger that got killed for the message carried which says nothing about the seems barring evidence the contrary that koresh was simply another deranged fanatic who thought neccessary take whole bunch folks with him children and all satisfy his delusional mania jim jones circa the mean time sure learned lot about evil and corruption are you surprised things have gotten that rotten nope fruitcakes like koresh have been demonstrating such evil corruption for centuries the old frogs almanac salute that old frog hissef ryugen fisher sco xenix ladysmith british columbia canada serving central vancouver island with public access usenet and internet mail home the holocaust almanac\n"
     ]
    }
   ],
   "source": [
    "# Lowercase and remove punctuation \n",
    "import string\n",
    "exclude = set(string.punctuation) # special characters stored in a variable.\n",
    "print('The special characters we are going to exclude from document are :\\n',exclude)\n",
    "def low_punc (text): \n",
    "    nopunc = ''.join(ch for ch in text.lower() if ch not in exclude) \n",
    "    result = ''.join([i for i in nopunc if not i.isdigit()])   # removingt numbers\n",
    "    new_string = ' '.join([w for w in result.split() if len(w)>2]) # removing words with length less than two\n",
    "    return new_string\n",
    "stepbystep = low_punc(stepbystep)\n",
    "print('\\n Preprocessed Text :\\n *********************\\n',stepbystep)"
   ]
  },
  {
   "cell_type": "markdown",
   "metadata": {},
   "source": [
    "#### Applying the basic preprocessing for all the documents."
   ]
  },
  {
   "cell_type": "code",
   "execution_count": 26,
   "metadata": {},
   "outputs": [],
   "source": [
    "# method to clean with basic preprocessing and apply for the total text data\n",
    "exclude = set(string.punctuation)  # we have used above this again we are using here just if in case you dont want to run above cells\n",
    "def clean(text):\n",
    "    # locate headers before first double new line\n",
    "    dirt = text.split(\"\\n\\n\")[0] \n",
    "    \n",
    "    # Remove headers\n",
    "    stripheaders = text.replace(dirt, '')\n",
    "    \n",
    "    # Remove line containing email addresses\n",
    "    stripline = \"\\n\".join([line for line in stripheaders.splitlines() if not \"@\" in line]) \n",
    "    \n",
    "    # Remove punctuation and numbers\n",
    "    char = ''.join(ch for ch in stripline if ch not in exclude) \n",
    "    result = ''.join([i for i in char if not i.isdigit()])\n",
    "    \n",
    "    # remove words with lenght less than 2\n",
    "    clean_text = ' '.join([w for w in result.split() if len(w)>2]) \n",
    "    \n",
    "    return clean_text"
   ]
  },
  {
   "cell_type": "markdown",
   "metadata": {},
   "source": [
    " * <font color=#008000> Preprocessing is successfully completed. Now, tokenization and parts of speech tagging are done on the cleaned data."
   ]
  },
  {
   "cell_type": "code",
   "execution_count": 27,
   "metadata": {},
   "outputs": [
    {
     "name": "stdout",
     "output_type": "stream",
     "text": [
      "['Seems', 'Koresh', 'yet', 'another', 'messenger', 'that', 'got', 'killed', 'for', 'the', 'message', 'carried', 'Which', 'says', 'nothing', 'about', 'the', 'Seems', 'barring', 'evidence', 'the', 'contrary', 'that', 'Koresh', 'was', 'simply', 'another', 'deranged', 'fanatic', 'who', 'thought', 'neccessary', 'take', 'whole', 'bunch', 'folks', 'with', 'him', 'children', 'and', 'all', 'satisfy', 'his', 'delusional', 'mania', 'Jim', 'Jones', 'circa', 'the', 'mean', 'time', 'sure', 'learned', 'lot', 'about', 'evil', 'and', 'corruption', 'Are', 'you', 'surprised', 'things', 'have', 'gotten', 'that', 'rotten', 'Nope', 'fruitcakes', 'like', 'Koresh', 'have', 'been', 'demonstrating', 'such', 'evil', 'corruption', 'for', 'centuries', 'The', 'Old', 'Frogs', 'Almanac', 'Salute', 'That', 'Old', 'Frog', 'Hissef', 'Ryugen', 'Fisher', 'SCO', 'XENIX', 'Ladysmith', 'British', 'Columbia', 'CANADA', 'Serving', 'Central', 'Vancouver', 'Island', 'with', 'public', 'access', 'UseNet', 'and', 'Internet', 'Mail', 'home', 'the', 'Holocaust', 'Almanac']\n"
     ]
    }
   ],
   "source": [
    "# Tokenizing the text by calling 'clean' method for preprocessing\n",
    "\n",
    "clean_doc = [clean(doc).split() for doc in df.text]   \n",
    "print(clean_doc[1])"
   ]
  },
  {
   "cell_type": "code",
   "execution_count": 28,
   "metadata": {},
   "outputs": [],
   "source": [
    "def flatten(list):  #Appending all the words in to a single list\n",
    "    new_list = []\n",
    "    for i in list:\n",
    "        for j in i:\n",
    "            new_list.append(j)\n",
    "    return new_list"
   ]
  },
  {
   "cell_type": "code",
   "execution_count": 29,
   "metadata": {},
   "outputs": [
    {
     "name": "stdout",
     "output_type": "stream",
     "text": [
      "The total number of words from all documents are : 403474\n"
     ]
    }
   ],
   "source": [
    "total_words = flatten(clean_doc) # function call to flatten method\n",
    "print('The total number of words from all documents are :',len(total_words))"
   ]
  },
  {
   "cell_type": "code",
   "execution_count": 30,
   "metadata": {},
   "outputs": [
    {
     "data": {
      "text/plain": [
       "[('Ive', 'NNP'),\n",
       " ('noticed', 'VBD'),\n",
       " ('that', 'IN'),\n",
       " ('you', 'PRP'),\n",
       " ('only', 'RB'),\n",
       " ('save', 'VB'),\n",
       " ('model', 'NN'),\n",
       " ('with', 'IN'),\n",
       " ('all', 'DT'),\n",
       " ('your', 'PRP$')]"
      ]
     },
     "execution_count": 30,
     "metadata": {},
     "output_type": "execute_result"
    }
   ],
   "source": [
    "# Parts-of-speech tagging\n",
    "\n",
    "tagged = nltk.pos_tag(total_words) \n",
    "tagged[:10]"
   ]
  },
  {
   "cell_type": "code",
   "execution_count": 31,
   "metadata": {},
   "outputs": [
    {
     "data": {
      "text/plain": [
       "list"
      ]
     },
     "execution_count": 31,
     "metadata": {},
     "output_type": "execute_result"
    }
   ],
   "source": [
    "type(tagged)"
   ]
  },
  {
   "cell_type": "markdown",
   "metadata": {},
   "source": [
    "### b. Apply the techniques described in Tutorial 6 (Frequency with filter, PMI, T-test with filter, Chi-Sq test) to extract bigram collocations from the corpus. Show the top 20 results of each technique. ( 15 marks )"
   ]
  },
  {
   "cell_type": "code",
   "execution_count": 32,
   "metadata": {},
   "outputs": [],
   "source": [
    "bigrams = nltk.collocations.BigramAssocMeasures()\n",
    "\n",
    "bigramFinder = nltk.collocations.BigramCollocationFinder.from_words(total_words)\n"
   ]
  },
  {
   "cell_type": "markdown",
   "metadata": {
    "heading_collapsed": true
   },
   "source": [
    "### Frequency_count"
   ]
  },
  {
   "cell_type": "code",
   "execution_count": 33,
   "metadata": {
    "hidden": true
   },
   "outputs": [],
   "source": [
    "#bigrams\n",
    "bigram_freq = bigramFinder.ngram_fd.items()\n",
    "bigramFreqTable = pd.DataFrame(list(bigram_freq), columns=['bigram','freq']).sort_values(by='freq', ascending=False)\n",
    "\n"
   ]
  },
  {
   "cell_type": "code",
   "execution_count": 34,
   "metadata": {
    "hidden": true
   },
   "outputs": [
    {
     "data": {
      "text/html": [
       "<div>\n",
       "<style scoped>\n",
       "    .dataframe tbody tr th:only-of-type {\n",
       "        vertical-align: middle;\n",
       "    }\n",
       "\n",
       "    .dataframe tbody tr th {\n",
       "        vertical-align: top;\n",
       "    }\n",
       "\n",
       "    .dataframe thead th {\n",
       "        text-align: right;\n",
       "    }\n",
       "</style>\n",
       "<table border=\"1\" class=\"dataframe\">\n",
       "  <thead>\n",
       "    <tr style=\"text-align: right;\">\n",
       "      <th></th>\n",
       "      <th>bigram</th>\n",
       "      <th>freq</th>\n",
       "    </tr>\n",
       "  </thead>\n",
       "  <tbody>\n",
       "    <tr>\n",
       "      <th>278</th>\n",
       "      <td>(that, the)</td>\n",
       "      <td>836</td>\n",
       "    </tr>\n",
       "    <tr>\n",
       "      <th>70</th>\n",
       "      <td>(for, the)</td>\n",
       "      <td>741</td>\n",
       "    </tr>\n",
       "    <tr>\n",
       "      <th>1752</th>\n",
       "      <td>(and, the)</td>\n",
       "      <td>684</td>\n",
       "    </tr>\n",
       "    <tr>\n",
       "      <th>543</th>\n",
       "      <td>(from, the)</td>\n",
       "      <td>535</td>\n",
       "    </tr>\n",
       "    <tr>\n",
       "      <th>1014</th>\n",
       "      <td>(with, the)</td>\n",
       "      <td>510</td>\n",
       "    </tr>\n",
       "  </tbody>\n",
       "</table>\n",
       "</div>"
      ],
      "text/plain": [
       "           bigram  freq\n",
       "278   (that, the)   836\n",
       "70     (for, the)   741\n",
       "1752   (and, the)   684\n",
       "543   (from, the)   535\n",
       "1014  (with, the)   510"
      ]
     },
     "execution_count": 34,
     "metadata": {},
     "output_type": "execute_result"
    }
   ],
   "source": [
    "bigramFreqTable[:5]"
   ]
  },
  {
   "cell_type": "code",
   "execution_count": 35,
   "metadata": {
    "hidden": true
   },
   "outputs": [
    {
     "data": {
      "text/html": [
       "<div>\n",
       "<style scoped>\n",
       "    .dataframe tbody tr th:only-of-type {\n",
       "        vertical-align: middle;\n",
       "    }\n",
       "\n",
       "    .dataframe tbody tr th {\n",
       "        vertical-align: top;\n",
       "    }\n",
       "\n",
       "    .dataframe thead th {\n",
       "        text-align: right;\n",
       "    }\n",
       "</style>\n",
       "<table border=\"1\" class=\"dataframe\">\n",
       "  <thead>\n",
       "    <tr style=\"text-align: right;\">\n",
       "      <th></th>\n",
       "      <th>bigram</th>\n",
       "      <th>freq</th>\n",
       "    </tr>\n",
       "  </thead>\n",
       "  <tbody>\n",
       "    <tr>\n",
       "      <th>6462</th>\n",
       "      <td>(dont, think)</td>\n",
       "      <td>133</td>\n",
       "    </tr>\n",
       "    <tr>\n",
       "      <th>7319</th>\n",
       "      <td>(Jesus, Christ)</td>\n",
       "      <td>60</td>\n",
       "    </tr>\n",
       "    <tr>\n",
       "      <th>6086</th>\n",
       "      <td>(moral, system)</td>\n",
       "      <td>54</td>\n",
       "    </tr>\n",
       "    <tr>\n",
       "      <th>3272</th>\n",
       "      <td>(many, people)</td>\n",
       "      <td>53</td>\n",
       "    </tr>\n",
       "    <tr>\n",
       "      <th>21158</th>\n",
       "      <td>(space, station)</td>\n",
       "      <td>50</td>\n",
       "    </tr>\n",
       "  </tbody>\n",
       "</table>\n",
       "</div>"
      ],
      "text/plain": [
       "                 bigram  freq\n",
       "6462      (dont, think)   133\n",
       "7319    (Jesus, Christ)    60\n",
       "6086    (moral, system)    54\n",
       "3272     (many, people)    53\n",
       "21158  (space, station)    50"
      ]
     },
     "execution_count": 35,
     "metadata": {},
     "output_type": "execute_result"
    }
   ],
   "source": [
    "#get english stopwords\n",
    "from nltk.corpus import stopwords\n",
    "en_stopwords = set(stopwords.words('english'))\n",
    "#function to filter for ADJ/NN bigrams\n",
    "def rightTypes(ngram):\n",
    "    if '-pron-' in ngram or 't' in ngram:\n",
    "        return False\n",
    "    for word in ngram:\n",
    "        if word in en_stopwords or word.isspace():\n",
    "            return False\n",
    "    acceptable_types = ('JJ', 'JJR', 'JJS', 'NN', 'NNS', 'NNP', 'NNPS')\n",
    "    second_type = ('NN', 'NNS', 'NNP', 'NNPS')\n",
    "    tags = nltk.pos_tag(ngram)\n",
    "    if tags[0][1] in acceptable_types and tags[1][1] in second_type:\n",
    "        return True\n",
    "    else:\n",
    "        return False\n",
    "#filter bigrams\n",
    "filtered_bi = bigramFreqTable[bigramFreqTable.bigram.map(lambda x: rightTypes(x))]\n",
    "filtered_bi[:5]"
   ]
  },
  {
   "cell_type": "code",
   "execution_count": 36,
   "metadata": {
    "hidden": true
   },
   "outputs": [
    {
     "data": {
      "text/plain": [
       "array([('dont', 'think'), ('Jesus', 'Christ'), ('moral', 'system'),\n",
       "       ('many', 'people'), ('space', 'station'),\n",
       "       ('objective', 'morality'), ('anonymous', 'FTP'),\n",
       "       ('image', 'processing'), ('Thanks', 'advance'),\n",
       "       ('Space', 'Shuttle'), ('David', 'Koresh'), ('United', 'States'),\n",
       "       ('Cheers', 'Kent'), ('New', 'York'), ('dont', 'see'),\n",
       "       ('existence', 'God'), ('New', 'Testament'), ('Jet', 'Propulsion'),\n",
       "       ('source', 'code'), ('Computer', 'Graphics')], dtype=object)"
      ]
     },
     "execution_count": 36,
     "metadata": {},
     "output_type": "execute_result"
    }
   ],
   "source": [
    "bigramFinder.apply_freq_filter(20)\n",
    "freq_bi = filtered_bi[:20].bigram.values\n",
    "freq_bi"
   ]
  },
  {
   "cell_type": "markdown",
   "metadata": {
    "heading_collapsed": true
   },
   "source": [
    "### PMI"
   ]
  },
  {
   "cell_type": "code",
   "execution_count": 45,
   "metadata": {
    "hidden": true
   },
   "outputs": [],
   "source": [
    "bigramFinder.apply_freq_filter(20)\n",
    "\n",
    "bigramPMITable = pd.DataFrame(list(bigramFinder.score_ngrams(bigrams.pmi)), columns=['bigram','PMI']).sort_values(by='PMI', ascending=False)\n"
   ]
  },
  {
   "cell_type": "code",
   "execution_count": 46,
   "metadata": {
    "hidden": true
   },
   "outputs": [
    {
     "data": {
      "text/html": [
       "<div>\n",
       "<style scoped>\n",
       "    .dataframe tbody tr th:only-of-type {\n",
       "        vertical-align: middle;\n",
       "    }\n",
       "\n",
       "    .dataframe tbody tr th {\n",
       "        vertical-align: top;\n",
       "    }\n",
       "\n",
       "    .dataframe thead th {\n",
       "        text-align: right;\n",
       "    }\n",
       "</style>\n",
       "<table border=\"1\" class=\"dataframe\">\n",
       "  <thead>\n",
       "    <tr style=\"text-align: right;\">\n",
       "      <th></th>\n",
       "      <th>bigram</th>\n",
       "      <th>PMI</th>\n",
       "    </tr>\n",
       "  </thead>\n",
       "  <tbody>\n",
       "    <tr>\n",
       "      <th>0</th>\n",
       "      <td>(comme, aucun)</td>\n",
       "      <td>14.300188</td>\n",
       "    </tr>\n",
       "    <tr>\n",
       "      <th>1</th>\n",
       "      <td>(fait, comme)</td>\n",
       "      <td>14.098554</td>\n",
       "    </tr>\n",
       "    <tr>\n",
       "      <th>2</th>\n",
       "      <td>(sank, Manhattan)</td>\n",
       "      <td>14.031440</td>\n",
       "    </tr>\n",
       "    <tr>\n",
       "      <th>3</th>\n",
       "      <td>(xxxx, xxxx)</td>\n",
       "      <td>13.911623</td>\n",
       "    </tr>\n",
       "    <tr>\n",
       "      <th>4</th>\n",
       "      <td>(Virtual, Reality)</td>\n",
       "      <td>13.492833</td>\n",
       "    </tr>\n",
       "  </tbody>\n",
       "</table>\n",
       "</div>"
      ],
      "text/plain": [
       "               bigram        PMI\n",
       "0      (comme, aucun)  14.300188\n",
       "1       (fait, comme)  14.098554\n",
       "2   (sank, Manhattan)  14.031440\n",
       "3        (xxxx, xxxx)  13.911623\n",
       "4  (Virtual, Reality)  13.492833"
      ]
     },
     "execution_count": 46,
     "metadata": {},
     "output_type": "execute_result"
    }
   ],
   "source": [
    "bigramPMITable[:5]"
   ]
  },
  {
   "cell_type": "code",
   "execution_count": 47,
   "metadata": {
    "hidden": true
   },
   "outputs": [
    {
     "data": {
      "text/plain": [
       "array([('comme', 'aucun'), ('fait', 'comme'), ('sank', 'Manhattan'),\n",
       "       ('xxxx', 'xxxx'), ('Virtual', 'Reality'), ('McDonnell', 'Douglas'),\n",
       "       ('Mary', 'Shafer'), ('Jet', 'Propulsion'), ('Air', 'Force'),\n",
       "       ('Lab', 'Telos'), ('San', 'Jose'), ('remote', 'sensing'),\n",
       "       ('United', 'States'), ('Thu', 'Apr'), ('Brian', 'Kendig'),\n",
       "       ('Cheers', 'Kent'), ('Apr', 'GMT'), ('Old', 'Testament'),\n",
       "       ('Propulsion', 'Lab'), ('black', 'holes')], dtype=object)"
      ]
     },
     "execution_count": 47,
     "metadata": {},
     "output_type": "execute_result"
    }
   ],
   "source": [
    "pmi_bi = bigramPMITable[:20].bigram.values\n",
    "pmi_bi"
   ]
  },
  {
   "cell_type": "markdown",
   "metadata": {
    "heading_collapsed": true
   },
   "source": [
    "### T-test"
   ]
  },
  {
   "cell_type": "code",
   "execution_count": 48,
   "metadata": {
    "hidden": true
   },
   "outputs": [
    {
     "data": {
      "text/html": [
       "<div>\n",
       "<style scoped>\n",
       "    .dataframe tbody tr th:only-of-type {\n",
       "        vertical-align: middle;\n",
       "    }\n",
       "\n",
       "    .dataframe tbody tr th {\n",
       "        vertical-align: top;\n",
       "    }\n",
       "\n",
       "    .dataframe thead th {\n",
       "        text-align: right;\n",
       "    }\n",
       "</style>\n",
       "<table border=\"1\" class=\"dataframe\">\n",
       "  <thead>\n",
       "    <tr style=\"text-align: right;\">\n",
       "      <th></th>\n",
       "      <th>bigram</th>\n",
       "      <th>t</th>\n",
       "    </tr>\n",
       "  </thead>\n",
       "  <tbody>\n",
       "    <tr>\n",
       "      <th>0</th>\n",
       "      <td>(the, same)</td>\n",
       "      <td>18.597028</td>\n",
       "    </tr>\n",
       "    <tr>\n",
       "      <th>1</th>\n",
       "      <td>(from, the)</td>\n",
       "      <td>18.016236</td>\n",
       "    </tr>\n",
       "    <tr>\n",
       "      <th>2</th>\n",
       "      <td>(does, not)</td>\n",
       "      <td>17.721909</td>\n",
       "    </tr>\n",
       "    <tr>\n",
       "      <th>3</th>\n",
       "      <td>(have, been)</td>\n",
       "      <td>17.448182</td>\n",
       "    </tr>\n",
       "    <tr>\n",
       "      <th>4</th>\n",
       "      <td>(for, the)</td>\n",
       "      <td>17.434522</td>\n",
       "    </tr>\n",
       "  </tbody>\n",
       "</table>\n",
       "</div>"
      ],
      "text/plain": [
       "         bigram          t\n",
       "0   (the, same)  18.597028\n",
       "1   (from, the)  18.016236\n",
       "2   (does, not)  17.721909\n",
       "3  (have, been)  17.448182\n",
       "4    (for, the)  17.434522"
      ]
     },
     "execution_count": 48,
     "metadata": {},
     "output_type": "execute_result"
    }
   ],
   "source": [
    "bigramTtable = pd.DataFrame(list(bigramFinder.score_ngrams(bigrams.student_t)), columns=['bigram','t']).sort_values(by='t', ascending=False)\n",
    "bigramTtable.head()"
   ]
  },
  {
   "cell_type": "code",
   "execution_count": 49,
   "metadata": {
    "hidden": true
   },
   "outputs": [
    {
     "data": {
      "text/html": [
       "<div>\n",
       "<style scoped>\n",
       "    .dataframe tbody tr th:only-of-type {\n",
       "        vertical-align: middle;\n",
       "    }\n",
       "\n",
       "    .dataframe tbody tr th {\n",
       "        vertical-align: top;\n",
       "    }\n",
       "\n",
       "    .dataframe thead th {\n",
       "        text-align: right;\n",
       "    }\n",
       "</style>\n",
       "<table border=\"1\" class=\"dataframe\">\n",
       "  <thead>\n",
       "    <tr style=\"text-align: right;\">\n",
       "      <th></th>\n",
       "      <th>bigram</th>\n",
       "      <th>t</th>\n",
       "    </tr>\n",
       "  </thead>\n",
       "  <tbody>\n",
       "    <tr>\n",
       "      <th>27</th>\n",
       "      <td>(dont, think)</td>\n",
       "      <td>11.324563</td>\n",
       "    </tr>\n",
       "    <tr>\n",
       "      <th>89</th>\n",
       "      <td>(Jesus, Christ)</td>\n",
       "      <td>7.721989</td>\n",
       "    </tr>\n",
       "    <tr>\n",
       "      <th>105</th>\n",
       "      <td>(moral, system)</td>\n",
       "      <td>7.303491</td>\n",
       "    </tr>\n",
       "    <tr>\n",
       "      <th>124</th>\n",
       "      <td>(many, people)</td>\n",
       "      <td>7.065599</td>\n",
       "    </tr>\n",
       "    <tr>\n",
       "      <th>125</th>\n",
       "      <td>(space, station)</td>\n",
       "      <td>7.054299</td>\n",
       "    </tr>\n",
       "  </tbody>\n",
       "</table>\n",
       "</div>"
      ],
      "text/plain": [
       "               bigram          t\n",
       "27      (dont, think)  11.324563\n",
       "89    (Jesus, Christ)   7.721989\n",
       "105   (moral, system)   7.303491\n",
       "124    (many, people)   7.065599\n",
       "125  (space, station)   7.054299"
      ]
     },
     "execution_count": 49,
     "metadata": {},
     "output_type": "execute_result"
    }
   ],
   "source": [
    "filteredT_bi = bigramTtable[bigramTtable.bigram.map(lambda x: rightTypes(x))]\n",
    "filteredT_bi[:5]"
   ]
  },
  {
   "cell_type": "code",
   "execution_count": 50,
   "metadata": {
    "hidden": true
   },
   "outputs": [
    {
     "data": {
      "text/plain": [
       "array([('dont', 'think'), ('Jesus', 'Christ'), ('moral', 'system'),\n",
       "       ('many', 'people'), ('space', 'station'),\n",
       "       ('objective', 'morality'), ('anonymous', 'FTP'),\n",
       "       ('Thanks', 'advance'), ('image', 'processing'),\n",
       "       ('David', 'Koresh'), ('Space', 'Shuttle'), ('United', 'States'),\n",
       "       ('Cheers', 'Kent'), ('New', 'York'), ('existence', 'God'),\n",
       "       ('New', 'Testament'), ('dont', 'see'), ('Jet', 'Propulsion'),\n",
       "       ('source', 'code'), ('Computer', 'Graphics')], dtype=object)"
      ]
     },
     "execution_count": 50,
     "metadata": {},
     "output_type": "execute_result"
    }
   ],
   "source": [
    "t_bi = filteredT_bi[:20].bigram.values\n",
    "t_bi"
   ]
  },
  {
   "cell_type": "markdown",
   "metadata": {
    "heading_collapsed": true
   },
   "source": [
    "### Chi-Square"
   ]
  },
  {
   "cell_type": "code",
   "execution_count": 51,
   "metadata": {
    "hidden": true
   },
   "outputs": [
    {
     "data": {
      "text/html": [
       "<div>\n",
       "<style scoped>\n",
       "    .dataframe tbody tr th:only-of-type {\n",
       "        vertical-align: middle;\n",
       "    }\n",
       "\n",
       "    .dataframe tbody tr th {\n",
       "        vertical-align: top;\n",
       "    }\n",
       "\n",
       "    .dataframe thead th {\n",
       "        text-align: right;\n",
       "    }\n",
       "</style>\n",
       "<table border=\"1\" class=\"dataframe\">\n",
       "  <thead>\n",
       "    <tr style=\"text-align: right;\">\n",
       "      <th></th>\n",
       "      <th>bigram</th>\n",
       "      <th>chi-sq</th>\n",
       "    </tr>\n",
       "  </thead>\n",
       "  <tbody>\n",
       "    <tr>\n",
       "      <th>0</th>\n",
       "      <td>(comme, aucun)</td>\n",
       "      <td>403474.000000</td>\n",
       "    </tr>\n",
       "    <tr>\n",
       "      <th>1</th>\n",
       "      <td>(sank, Manhattan)</td>\n",
       "      <td>351641.555187</td>\n",
       "    </tr>\n",
       "    <tr>\n",
       "      <th>2</th>\n",
       "      <td>(fait, comme)</td>\n",
       "      <td>350844.347697</td>\n",
       "    </tr>\n",
       "    <tr>\n",
       "      <th>3</th>\n",
       "      <td>(xxxx, xxxx)</td>\n",
       "      <td>339026.569236</td>\n",
       "    </tr>\n",
       "    <tr>\n",
       "      <th>4</th>\n",
       "      <td>(Jet, Propulsion)</td>\n",
       "      <td>266370.103538</td>\n",
       "    </tr>\n",
       "  </tbody>\n",
       "</table>\n",
       "</div>"
      ],
      "text/plain": [
       "              bigram         chi-sq\n",
       "0     (comme, aucun)  403474.000000\n",
       "1  (sank, Manhattan)  351641.555187\n",
       "2      (fait, comme)  350844.347697\n",
       "3       (xxxx, xxxx)  339026.569236\n",
       "4  (Jet, Propulsion)  266370.103538"
      ]
     },
     "execution_count": 51,
     "metadata": {},
     "output_type": "execute_result"
    }
   ],
   "source": [
    "bigramChiTable = pd.DataFrame(list(bigramFinder.score_ngrams(bigrams.chi_sq)), columns=['bigram','chi-sq']).sort_values(by='chi-sq', ascending=False)\n",
    "bigramChiTable.head()"
   ]
  },
  {
   "cell_type": "code",
   "execution_count": 52,
   "metadata": {
    "hidden": true
   },
   "outputs": [
    {
     "data": {
      "text/plain": [
       "array([('comme', 'aucun'), ('sank', 'Manhattan'), ('fait', 'comme'),\n",
       "       ('xxxx', 'xxxx'), ('Jet', 'Propulsion'), ('United', 'States'),\n",
       "       ('McDonnell', 'Douglas'), ('remote', 'sensing'),\n",
       "       ('Virtual', 'Reality'), ('Air', 'Force'), ('Cheers', 'Kent'),\n",
       "       ('Mary', 'Shafer'), ('Lab', 'Telos'), ('San', 'Jose'),\n",
       "       ('Apr', 'GMT'), ('Thu', 'Apr'), ('Old', 'Testament'),\n",
       "       ('Brian', 'Kendig'), ('New', 'York'), ('Propulsion', 'Lab')],\n",
       "      dtype=object)"
      ]
     },
     "execution_count": 52,
     "metadata": {},
     "output_type": "execute_result"
    }
   ],
   "source": [
    "chi_bi = bigramChiTable[:20].bigram.values\n",
    "chi_bi"
   ]
  },
  {
   "cell_type": "markdown",
   "metadata": {},
   "source": [
    "* <font color=#008000> Thus the four techniques are implemented successfully and the top 20 results are displayed."
   ]
  },
  {
   "cell_type": "markdown",
   "metadata": {},
   "source": [
    "### c. How much overlap is there among the techniques? Do you think it makes sense to consider the union of the results? ( 15 marks )"
   ]
  },
  {
   "cell_type": "markdown",
   "metadata": {},
   "source": [
    "* <font color=#008000> Comparison of the four techniques"
   ]
  },
  {
   "cell_type": "code",
   "execution_count": 53,
   "metadata": {},
   "outputs": [
    {
     "data": {
      "text/html": [
       "<div>\n",
       "<style scoped>\n",
       "    .dataframe tbody tr th:only-of-type {\n",
       "        vertical-align: middle;\n",
       "    }\n",
       "\n",
       "    .dataframe tbody tr th {\n",
       "        vertical-align: top;\n",
       "    }\n",
       "\n",
       "    .dataframe thead th {\n",
       "        text-align: right;\n",
       "    }\n",
       "</style>\n",
       "<table border=\"1\" class=\"dataframe\">\n",
       "  <thead>\n",
       "    <tr style=\"text-align: right;\">\n",
       "      <th></th>\n",
       "      <th>Frequency With Filter</th>\n",
       "      <th>PMI</th>\n",
       "      <th>T-test With Filter</th>\n",
       "      <th>Chi-Sq Test</th>\n",
       "    </tr>\n",
       "  </thead>\n",
       "  <tbody>\n",
       "    <tr>\n",
       "      <th>0</th>\n",
       "      <td>(dont, think)</td>\n",
       "      <td>(comme, aucun)</td>\n",
       "      <td>(dont, think)</td>\n",
       "      <td>(comme, aucun)</td>\n",
       "    </tr>\n",
       "    <tr>\n",
       "      <th>1</th>\n",
       "      <td>(Jesus, Christ)</td>\n",
       "      <td>(fait, comme)</td>\n",
       "      <td>(Jesus, Christ)</td>\n",
       "      <td>(sank, Manhattan)</td>\n",
       "    </tr>\n",
       "    <tr>\n",
       "      <th>2</th>\n",
       "      <td>(moral, system)</td>\n",
       "      <td>(sank, Manhattan)</td>\n",
       "      <td>(moral, system)</td>\n",
       "      <td>(fait, comme)</td>\n",
       "    </tr>\n",
       "    <tr>\n",
       "      <th>3</th>\n",
       "      <td>(many, people)</td>\n",
       "      <td>(xxxx, xxxx)</td>\n",
       "      <td>(many, people)</td>\n",
       "      <td>(xxxx, xxxx)</td>\n",
       "    </tr>\n",
       "    <tr>\n",
       "      <th>4</th>\n",
       "      <td>(space, station)</td>\n",
       "      <td>(Virtual, Reality)</td>\n",
       "      <td>(space, station)</td>\n",
       "      <td>(Jet, Propulsion)</td>\n",
       "    </tr>\n",
       "    <tr>\n",
       "      <th>5</th>\n",
       "      <td>(objective, morality)</td>\n",
       "      <td>(McDonnell, Douglas)</td>\n",
       "      <td>(objective, morality)</td>\n",
       "      <td>(United, States)</td>\n",
       "    </tr>\n",
       "    <tr>\n",
       "      <th>6</th>\n",
       "      <td>(anonymous, FTP)</td>\n",
       "      <td>(Mary, Shafer)</td>\n",
       "      <td>(anonymous, FTP)</td>\n",
       "      <td>(McDonnell, Douglas)</td>\n",
       "    </tr>\n",
       "    <tr>\n",
       "      <th>7</th>\n",
       "      <td>(image, processing)</td>\n",
       "      <td>(Jet, Propulsion)</td>\n",
       "      <td>(Thanks, advance)</td>\n",
       "      <td>(remote, sensing)</td>\n",
       "    </tr>\n",
       "    <tr>\n",
       "      <th>8</th>\n",
       "      <td>(Thanks, advance)</td>\n",
       "      <td>(Air, Force)</td>\n",
       "      <td>(image, processing)</td>\n",
       "      <td>(Virtual, Reality)</td>\n",
       "    </tr>\n",
       "    <tr>\n",
       "      <th>9</th>\n",
       "      <td>(Space, Shuttle)</td>\n",
       "      <td>(Lab, Telos)</td>\n",
       "      <td>(David, Koresh)</td>\n",
       "      <td>(Air, Force)</td>\n",
       "    </tr>\n",
       "    <tr>\n",
       "      <th>10</th>\n",
       "      <td>(David, Koresh)</td>\n",
       "      <td>(San, Jose)</td>\n",
       "      <td>(Space, Shuttle)</td>\n",
       "      <td>(Cheers, Kent)</td>\n",
       "    </tr>\n",
       "    <tr>\n",
       "      <th>11</th>\n",
       "      <td>(United, States)</td>\n",
       "      <td>(remote, sensing)</td>\n",
       "      <td>(United, States)</td>\n",
       "      <td>(Mary, Shafer)</td>\n",
       "    </tr>\n",
       "    <tr>\n",
       "      <th>12</th>\n",
       "      <td>(Cheers, Kent)</td>\n",
       "      <td>(United, States)</td>\n",
       "      <td>(Cheers, Kent)</td>\n",
       "      <td>(Lab, Telos)</td>\n",
       "    </tr>\n",
       "    <tr>\n",
       "      <th>13</th>\n",
       "      <td>(New, York)</td>\n",
       "      <td>(Thu, Apr)</td>\n",
       "      <td>(New, York)</td>\n",
       "      <td>(San, Jose)</td>\n",
       "    </tr>\n",
       "    <tr>\n",
       "      <th>14</th>\n",
       "      <td>(dont, see)</td>\n",
       "      <td>(Brian, Kendig)</td>\n",
       "      <td>(existence, God)</td>\n",
       "      <td>(Apr, GMT)</td>\n",
       "    </tr>\n",
       "    <tr>\n",
       "      <th>15</th>\n",
       "      <td>(existence, God)</td>\n",
       "      <td>(Cheers, Kent)</td>\n",
       "      <td>(New, Testament)</td>\n",
       "      <td>(Thu, Apr)</td>\n",
       "    </tr>\n",
       "    <tr>\n",
       "      <th>16</th>\n",
       "      <td>(New, Testament)</td>\n",
       "      <td>(Apr, GMT)</td>\n",
       "      <td>(dont, see)</td>\n",
       "      <td>(Old, Testament)</td>\n",
       "    </tr>\n",
       "    <tr>\n",
       "      <th>17</th>\n",
       "      <td>(Jet, Propulsion)</td>\n",
       "      <td>(Old, Testament)</td>\n",
       "      <td>(Jet, Propulsion)</td>\n",
       "      <td>(Brian, Kendig)</td>\n",
       "    </tr>\n",
       "    <tr>\n",
       "      <th>18</th>\n",
       "      <td>(source, code)</td>\n",
       "      <td>(Propulsion, Lab)</td>\n",
       "      <td>(source, code)</td>\n",
       "      <td>(New, York)</td>\n",
       "    </tr>\n",
       "    <tr>\n",
       "      <th>19</th>\n",
       "      <td>(Computer, Graphics)</td>\n",
       "      <td>(black, holes)</td>\n",
       "      <td>(Computer, Graphics)</td>\n",
       "      <td>(Propulsion, Lab)</td>\n",
       "    </tr>\n",
       "  </tbody>\n",
       "</table>\n",
       "</div>"
      ],
      "text/plain": [
       "    Frequency With Filter                   PMI     T-test With Filter  \\\n",
       "0           (dont, think)        (comme, aucun)          (dont, think)   \n",
       "1         (Jesus, Christ)         (fait, comme)        (Jesus, Christ)   \n",
       "2         (moral, system)     (sank, Manhattan)        (moral, system)   \n",
       "3          (many, people)          (xxxx, xxxx)         (many, people)   \n",
       "4        (space, station)    (Virtual, Reality)       (space, station)   \n",
       "5   (objective, morality)  (McDonnell, Douglas)  (objective, morality)   \n",
       "6        (anonymous, FTP)        (Mary, Shafer)       (anonymous, FTP)   \n",
       "7     (image, processing)     (Jet, Propulsion)      (Thanks, advance)   \n",
       "8       (Thanks, advance)          (Air, Force)    (image, processing)   \n",
       "9        (Space, Shuttle)          (Lab, Telos)        (David, Koresh)   \n",
       "10        (David, Koresh)           (San, Jose)       (Space, Shuttle)   \n",
       "11       (United, States)     (remote, sensing)       (United, States)   \n",
       "12         (Cheers, Kent)      (United, States)         (Cheers, Kent)   \n",
       "13            (New, York)            (Thu, Apr)            (New, York)   \n",
       "14            (dont, see)       (Brian, Kendig)       (existence, God)   \n",
       "15       (existence, God)        (Cheers, Kent)       (New, Testament)   \n",
       "16       (New, Testament)            (Apr, GMT)            (dont, see)   \n",
       "17      (Jet, Propulsion)      (Old, Testament)      (Jet, Propulsion)   \n",
       "18         (source, code)     (Propulsion, Lab)         (source, code)   \n",
       "19   (Computer, Graphics)        (black, holes)   (Computer, Graphics)   \n",
       "\n",
       "             Chi-Sq Test  \n",
       "0         (comme, aucun)  \n",
       "1      (sank, Manhattan)  \n",
       "2          (fait, comme)  \n",
       "3           (xxxx, xxxx)  \n",
       "4      (Jet, Propulsion)  \n",
       "5       (United, States)  \n",
       "6   (McDonnell, Douglas)  \n",
       "7      (remote, sensing)  \n",
       "8     (Virtual, Reality)  \n",
       "9           (Air, Force)  \n",
       "10        (Cheers, Kent)  \n",
       "11        (Mary, Shafer)  \n",
       "12          (Lab, Telos)  \n",
       "13           (San, Jose)  \n",
       "14            (Apr, GMT)  \n",
       "15            (Thu, Apr)  \n",
       "16      (Old, Testament)  \n",
       "17       (Brian, Kendig)  \n",
       "18           (New, York)  \n",
       "19     (Propulsion, Lab)  "
      ]
     },
     "execution_count": 53,
     "metadata": {},
     "output_type": "execute_result"
    }
   ],
   "source": [
    "bigramsCompare = pd.DataFrame([freq_bi, pmi_bi, t_bi, chi_bi]).T\n",
    "bigramsCompare.columns = ['Frequency With Filter', 'PMI', 'T-test With Filter', 'Chi-Sq Test']\n",
    "bigramsCompare"
   ]
  },
  {
   "cell_type": "markdown",
   "metadata": {},
   "source": [
    "* <font color=#008000>Comparing the results of the four techniques, we found that Frequency with Filter method and T-test with Filter produce almost the same result. The order of the result was little different but the same. On the other hand, PMI and Chi-Square methods produce around 50% of the same result. Here too the order of the words differ. \n",
    "* <font color=#008000> In our opinion it would be a great idea to union the results of the four techniques together to get all possible bigrams in an effective way.  "
   ]
  },
  {
   "cell_type": "markdown",
   "metadata": {},
   "source": [
    "### Q2. SVM and NB for Text Classification (75 marks) In this part, you will play around with SVM and Naive Bayes for text classification on the corpus of Q1."
   ]
  },
  {
   "cell_type": "markdown",
   "metadata": {},
   "source": [
    "<font color=#008000>a. Clean the text: ( 10 marks )\n",
    " * <font color=#008000>  Remove stop words\n",
    " * <font color=#008000>  Remove numbers and other non-letter characters\n",
    " * <font color=#008000> Stem the words"
   ]
  },
  {
   "cell_type": "code",
   "execution_count": 54,
   "metadata": {},
   "outputs": [],
   "source": [
    "from nltk.stem.wordnet import WordNetLemmatizer\n",
    "stop = set(stopwords.words('english'))\n",
    "lemma = WordNetLemmatizer()\n",
    "sno = nltk.stem.SnowballStemmer('english')\n",
    "\n",
    "# method for removing stopwords, \n",
    "def some_more_clean(text):\n",
    "    #first preprocess call(remove numbers, special_characters, unnecessary lines)\n",
    "    clean_text = clean(text) \n",
    "    \n",
    "    # lower case and Remove stop words\n",
    "    text_rmstop = \" \".join([i for i in clean_text.lower().split() if i not in stop])\n",
    "    \n",
    "    # Lemmatize : getting the root word\n",
    "    lemmatized = \" \".join(lemma.lemmatize(word) for word in text_rmstop.split()) \n",
    "    \n",
    "    # Stemming : removing suffix and prefixes\n",
    "    cleaned_text = ' '.join(sno.stem(t) for t in lemmatized.split())\n",
    "    \n",
    "    return cleaned_text"
   ]
  },
  {
   "cell_type": "code",
   "execution_count": 55,
   "metadata": {},
   "outputs": [
    {
     "data": {
      "text/plain": [
       "2034"
      ]
     },
     "execution_count": 55,
     "metadata": {},
     "output_type": "execute_result"
    }
   ],
   "source": [
    "cleaned_doc = [some_more_clean(doc).split() for doc in df.text]   \n",
    "len(cleaned_doc)\n"
   ]
  },
  {
   "cell_type": "markdown",
   "metadata": {},
   "source": [
    "### b. Study the section on feature extraction in Scikit Learn, https://scikit-learn.org/stable/modules/feature_extraction.html#text-feature-extraction and convert the corpus into a bag-of-words tf-idf weighted vector representation. ( 10 marks )"
   ]
  },
  {
   "cell_type": "code",
   "execution_count": 56,
   "metadata": {},
   "outputs": [
    {
     "data": {
      "text/plain": [
       "2034"
      ]
     },
     "execution_count": 56,
     "metadata": {},
     "output_type": "execute_result"
    }
   ],
   "source": [
    "# joining the words which are splitted in to sentences\n",
    "clean_doc_list=[]\n",
    "for i in cleaned_doc:\n",
    "    new_doc = ' '.join(i)\n",
    "    clean_doc_list.append(new_doc)\n",
    "len(clean_doc_list)\n"
   ]
  },
  {
   "cell_type": "markdown",
   "metadata": {},
   "source": [
    "### Bag of Words Count Vectorizers"
   ]
  },
  {
   "cell_type": "code",
   "execution_count": 57,
   "metadata": {},
   "outputs": [
    {
     "data": {
      "text/plain": [
       "(2034, 202303)"
      ]
     },
     "execution_count": 57,
     "metadata": {},
     "output_type": "execute_result"
    }
   ],
   "source": [
    "from sklearn.feature_extraction.text import CountVectorizer\n",
    "count_vect = CountVectorizer(ngram_range=(1,2))\n",
    "X_train_counts = count_vect.fit_transform(clean_doc_list)\n",
    "X_train_counts.shape\n"
   ]
  },
  {
   "cell_type": "markdown",
   "metadata": {},
   "source": [
    "### TF-IDF Vectorizer"
   ]
  },
  {
   "cell_type": "code",
   "execution_count": 58,
   "metadata": {},
   "outputs": [
    {
     "data": {
      "text/plain": [
       "(2034, 202303)"
      ]
     },
     "execution_count": 58,
     "metadata": {},
     "output_type": "execute_result"
    }
   ],
   "source": [
    "from sklearn.feature_extraction.text import TfidfTransformer\n",
    "tf_transformer = TfidfTransformer().fit(X_train_counts)  # fit\n",
    "X_train_tf = tf_transformer.transform(X_train_counts)    # transform\n",
    "# X_train_tfidf = tfidf_transformer.fit_transform(X_train_counts)   # fit and transform in single step\n",
    "X_train_tf.shape"
   ]
  },
  {
   "cell_type": "code",
   "execution_count": 59,
   "metadata": {},
   "outputs": [
    {
     "data": {
      "text/plain": [
       "<2034x202303 sparse matrix of type '<class 'numpy.float64'>'\n",
       "\twith 428463 stored elements in Compressed Sparse Row format>"
      ]
     },
     "execution_count": 59,
     "metadata": {},
     "output_type": "execute_result"
    }
   ],
   "source": [
    "X_train_tf"
   ]
  },
  {
   "cell_type": "markdown",
   "metadata": {},
   "source": [
    "### Question 2 c\n",
    "#### Split the data randomly into training and testing set (70-30 %). (​5 marks​) "
   ]
  },
  {
   "cell_type": "code",
   "execution_count": 60,
   "metadata": {},
   "outputs": [],
   "source": [
    "from sklearn.model_selection import train_test_split\n",
    "X_train,X_test,y_train,y_test = train_test_split(X_train_tf,data.target,test_size=0.3,random_state=302)"
   ]
  },
  {
   "cell_type": "markdown",
   "metadata": {},
   "source": [
    "#### Train SVM and report confusion matrix. (​5 marks​) "
   ]
  },
  {
   "cell_type": "code",
   "execution_count": 61,
   "metadata": {},
   "outputs": [],
   "source": [
    "from sklearn import svm"
   ]
  },
  {
   "cell_type": "code",
   "execution_count": 62,
   "metadata": {},
   "outputs": [],
   "source": [
    "text_clf_svm = svm.SVC(C=1.0, kernel='linear', degree=3, gamma='auto')\n",
    "text_clf_svm.fit(X_train, y_train)  \n",
    "pre_svm = text_clf_svm.predict(X_test)\n",
    "cm_svm = metrics.confusion_matrix(y_test,pre_svm)"
   ]
  },
  {
   "cell_type": "code",
   "execution_count": 63,
   "metadata": {},
   "outputs": [],
   "source": [
    "# plot confusion matrix\n",
    "# refer to https://scikit-learn.org/stable/auto_examples/model_selection/plot_confusion_matrix.html\n",
    "def plot_confusion_matrix(cm, title='Confusion matrix', cmap=plt.cm.Blues):\n",
    "    fig, ax = plt.subplots()\n",
    "    plt.imshow(cm, interpolation='nearest', cmap=cmap)\n",
    "    plt.title(title)\n",
    "    plt.colorbar()\n",
    "    tick_marks = np.arange(len(categories))\n",
    "    plt.xticks(tick_marks, categories, rotation=60)\n",
    "    plt.yticks(tick_marks, categories)\n",
    "    plt.tight_layout()\n",
    "    plt.ylabel('True label')\n",
    "    plt.xlabel('Predicted label')\n",
    "    thresh = cm.max() / 2.\n",
    "    for i in range(cm.shape[0]):\n",
    "        for j in range(cm.shape[1]):\n",
    "            ax.text(j, i, format(cm[i, j], 'd'),\n",
    "                    ha=\"center\", va=\"center\",\n",
    "                    color=\"white\" if cm[i, j] > thresh else \"black\")\n",
    "    fig.tight_layout()\n",
    "    return ax\n"
   ]
  },
  {
   "cell_type": "code",
   "execution_count": 64,
   "metadata": {
    "scrolled": true
   },
   "outputs": [
    {
     "data": {
      "text/plain": [
       "<matplotlib.axes._subplots.AxesSubplot at 0x1b95558fd30>"
      ]
     },
     "execution_count": 64,
     "metadata": {},
     "output_type": "execute_result"
    },
    {
     "data": {
      "image/png": "[encoded data removed]",
      "text/plain": [
       "<Figure size 432x288 with 2 Axes>"
      ]
     },
     "metadata": {
      "needs_background": "light"
     },
     "output_type": "display_data"
    }
   ],
   "source": [
    "from sklearn import metrics\n",
    "plot_confusion_matrix(cm_svm)"
   ]
  },
  {
   "cell_type": "code",
   "execution_count": 65,
   "metadata": {},
   "outputs": [
    {
     "name": "stdout",
     "output_type": "stream",
     "text": [
      "0.93\n"
     ]
    }
   ],
   "source": [
    "print(round(metrics.accuracy_score(y_test,pre_svm),2))"
   ]
  },
  {
   "cell_type": "markdown",
   "metadata": {},
   "source": [
    "#### Train Multinomial NB and report confusion matrix. (​5 marks​) "
   ]
  },
  {
   "cell_type": "code",
   "execution_count": 66,
   "metadata": {},
   "outputs": [],
   "source": [
    "from sklearn.naive_bayes import MultinomialNB\n",
    "clf = MultinomialNB().fit(X_train, y_train)"
   ]
  },
  {
   "cell_type": "code",
   "execution_count": 67,
   "metadata": {},
   "outputs": [],
   "source": [
    "y_pred = clf.predict(X_test)"
   ]
  },
  {
   "cell_type": "code",
   "execution_count": 68,
   "metadata": {},
   "outputs": [],
   "source": [
    "cm_nb = metrics.confusion_matrix(y_test,y_pred)"
   ]
  },
  {
   "cell_type": "code",
   "execution_count": 69,
   "metadata": {},
   "outputs": [
    {
     "data": {
      "text/plain": [
       "<matplotlib.axes._subplots.AxesSubplot at 0x1b955e20390>"
      ]
     },
     "execution_count": 69,
     "metadata": {},
     "output_type": "execute_result"
    },
    {
     "data": {
      "image/png": "[encoded data removed]",
      "text/plain": [
       "<Figure size 432x288 with 2 Axes>"
      ]
     },
     "metadata": {
      "needs_background": "light"
     },
     "output_type": "display_data"
    }
   ],
   "source": [
    "plot_confusion_matrix(cm_nb)"
   ]
  },
  {
   "cell_type": "code",
   "execution_count": 70,
   "metadata": {},
   "outputs": [
    {
     "name": "stdout",
     "output_type": "stream",
     "text": [
      "0.86\n"
     ]
    }
   ],
   "source": [
    "print(round(metrics.accuracy_score(y_test,y_pred),2))\n"
   ]
  },
  {
   "cell_type": "markdown",
   "metadata": {},
   "source": [
    "#### Which algorithm has higher accuracy and why? (​5 marks​) "
   ]
  },
  {
   "cell_type": "markdown",
   "metadata": {},
   "source": [
    " * <font color=#008000> The accuary of SVM is 0.93, while it's 0.86 for Multinomial NB algorithm. So SVM has higher accuracy on this task. It's because the data structure and data size of this task more suitable for SVM model than Multinomial NB algorithm."
   ]
  },
  {
   "cell_type": "markdown",
   "metadata": {},
   "source": [
    "#### Does changing the kernel of the SVM change the accuracy or decrease confusion between classes? (​15 marks​) "
   ]
  },
  {
   "cell_type": "code",
   "execution_count": 71,
   "metadata": {},
   "outputs": [],
   "source": [
    "from sklearn.model_selection import GridSearchCV\n",
    "parameters = {'kernel': ['linear', 'poly', 'rbf', 'sigmoid']}"
   ]
  },
  {
   "cell_type": "code",
   "execution_count": 72,
   "metadata": {},
   "outputs": [
    {
     "name": "stderr",
     "output_type": "stream",
     "text": [
      "C:\\Users\\lanch\\Anaconda3\\lib\\site-packages\\sklearn\\model_selection\\_split.py:1978: FutureWarning: The default value of cv will change from 3 to 5 in version 0.22. Specify it explicitly to silence this warning.\n",
      "  warnings.warn(CV_WARNING, FutureWarning)\n"
     ]
    }
   ],
   "source": [
    "gs_clf = GridSearchCV(text_clf_svm, parameters, n_jobs=-1)\n",
    "gs_clf = gs_clf.fit(X_train, y_train) "
   ]
  },
  {
   "cell_type": "code",
   "execution_count": 73,
   "metadata": {},
   "outputs": [
    {
     "data": {
      "text/plain": [
       "{'kernel': 'linear'}"
      ]
     },
     "execution_count": 73,
     "metadata": {},
     "output_type": "execute_result"
    }
   ],
   "source": [
    "gs_clf.best_params_"
   ]
  },
  {
   "cell_type": "code",
   "execution_count": 74,
   "metadata": {},
   "outputs": [
    {
     "data": {
      "text/plain": [
       "<matplotlib.axes._subplots.AxesSubplot at 0x1b9558473c8>"
      ]
     },
     "execution_count": 74,
     "metadata": {},
     "output_type": "execute_result"
    },
    {
     "data": {
      "image/png": "[encoded data removed]",
      "text/plain": [
       "<Figure size 432x288 with 2 Axes>"
      ]
     },
     "metadata": {
      "needs_background": "light"
     },
     "output_type": "display_data"
    }
   ],
   "source": [
    "# try the rbf kernel to verify the performance on svm\n",
    "text_clf_svm_rbf = svm.SVC(C=1.0, kernel='rbf', degree=3, gamma='auto')\n",
    "text_clf_svm_rbf.fit(X_train, y_train)  \n",
    "\n",
    "pre_svm_rbf = text_clf_svm_rbf.predict(X_test)\n",
    "cm_rbf = metrics.confusion_matrix(y_test,pre_svm_rbf)\n",
    "\n",
    "plot_confusion_matrix(cm_rbf)"
   ]
  },
  {
   "cell_type": "code",
   "execution_count": 75,
   "metadata": {},
   "outputs": [
    {
     "name": "stdout",
     "output_type": "stream",
     "text": [
      "0.29\n"
     ]
    }
   ],
   "source": [
    "# print acuarcy score of SVM with kernel 'rbf'\n",
    "print(round(metrics.accuracy_score(y_test,pre_svm_rbf),2))"
   ]
  },
  {
   "cell_type": "markdown",
   "metadata": {},
   "source": [
    " * <font color=#008000> When we changed the kernel from 'linear' to 'rbf', the model performed very bad, the accuracy score is only 0.29. The accuracy of the model decreased and only recognized the targets of 'sci.space'"
   ]
  },
  {
   "cell_type": "markdown",
   "metadata": {},
   "source": [
    "### d. Perform part-of-speech tagging on the raw data (i.e. prior to cleaning it), clean as in part (a) above, and extract the nouns only to obtain a bag-of-words tf-idf weighted vector representation using only the nouns. Repeat question (c). How does this accuracy compare with that of part (c)? How does the size of the vocabulary compare with that of part (c)? (​20 marks​) "
   ]
  },
  {
   "cell_type": "markdown",
   "metadata": {},
   "source": [
    "####  Perform part-of-speech tagging on the raw data (i.e. prior to cleaning it)"
   ]
  },
  {
   "cell_type": "code",
   "execution_count": 76,
   "metadata": {},
   "outputs": [
    {
     "data": {
      "text/html": [
       "<div>\n",
       "<style scoped>\n",
       "    .dataframe tbody tr th:only-of-type {\n",
       "        vertical-align: middle;\n",
       "    }\n",
       "\n",
       "    .dataframe tbody tr th {\n",
       "        vertical-align: top;\n",
       "    }\n",
       "\n",
       "    .dataframe thead th {\n",
       "        text-align: right;\n",
       "    }\n",
       "</style>\n",
       "<table border=\"1\" class=\"dataframe\">\n",
       "  <thead>\n",
       "    <tr style=\"text-align: right;\">\n",
       "      <th></th>\n",
       "      <th>text</th>\n",
       "      <th>target</th>\n",
       "    </tr>\n",
       "  </thead>\n",
       "  <tbody>\n",
       "    <tr>\n",
       "      <th>0</th>\n",
       "      <td>From: rych@festival.ed.ac.uk (R Hawkes)\\nSubje...</td>\n",
       "      <td>1</td>\n",
       "    </tr>\n",
       "    <tr>\n",
       "      <th>1</th>\n",
       "      <td>Subject: Re: Biblical Backing of Koresh's 3-02...</td>\n",
       "      <td>3</td>\n",
       "    </tr>\n",
       "    <tr>\n",
       "      <th>2</th>\n",
       "      <td>From: Mark.Perew@p201.f208.n103.z1.fidonet.org...</td>\n",
       "      <td>2</td>\n",
       "    </tr>\n",
       "    <tr>\n",
       "      <th>3</th>\n",
       "      <td>From: dpw@sei.cmu.edu (David Wood)\\nSubject: R...</td>\n",
       "      <td>0</td>\n",
       "    </tr>\n",
       "    <tr>\n",
       "      <th>4</th>\n",
       "      <td>From: prb@access.digex.com (Pat)\\nSubject: Con...</td>\n",
       "      <td>2</td>\n",
       "    </tr>\n",
       "  </tbody>\n",
       "</table>\n",
       "</div>"
      ],
      "text/plain": [
       "                                                text  target\n",
       "0  From: rych@festival.ed.ac.uk (R Hawkes)\\nSubje...       1\n",
       "1  Subject: Re: Biblical Backing of Koresh's 3-02...       3\n",
       "2  From: Mark.Perew@p201.f208.n103.z1.fidonet.org...       2\n",
       "3  From: dpw@sei.cmu.edu (David Wood)\\nSubject: R...       0\n",
       "4  From: prb@access.digex.com (Pat)\\nSubject: Con...       2"
      ]
     },
     "execution_count": 76,
     "metadata": {},
     "output_type": "execute_result"
    }
   ],
   "source": [
    "#raw data check\n",
    "df.head(5)"
   ]
  },
  {
   "cell_type": "code",
   "execution_count": 77,
   "metadata": {},
   "outputs": [],
   "source": [
    "# tokenize the raw data\n",
    "df['text'] = df['text'].apply(word_tokenize)"
   ]
  },
  {
   "cell_type": "code",
   "execution_count": 78,
   "metadata": {},
   "outputs": [
    {
     "data": {
      "text/html": [
       "<div>\n",
       "<style scoped>\n",
       "    .dataframe tbody tr th:only-of-type {\n",
       "        vertical-align: middle;\n",
       "    }\n",
       "\n",
       "    .dataframe tbody tr th {\n",
       "        vertical-align: top;\n",
       "    }\n",
       "\n",
       "    .dataframe thead th {\n",
       "        text-align: right;\n",
       "    }\n",
       "</style>\n",
       "<table border=\"1\" class=\"dataframe\">\n",
       "  <thead>\n",
       "    <tr style=\"text-align: right;\">\n",
       "      <th></th>\n",
       "      <th>text</th>\n",
       "      <th>target</th>\n",
       "    </tr>\n",
       "  </thead>\n",
       "  <tbody>\n",
       "    <tr>\n",
       "      <th>0</th>\n",
       "      <td>[From, :, rych, @, festival.ed.ac.uk, (, R, Ha...</td>\n",
       "      <td>1</td>\n",
       "    </tr>\n",
       "    <tr>\n",
       "      <th>1</th>\n",
       "      <td>[Subject, :, Re, :, Biblical, Backing, of, Kor...</td>\n",
       "      <td>3</td>\n",
       "    </tr>\n",
       "    <tr>\n",
       "      <th>2</th>\n",
       "      <td>[From, :, Mark.Perew, @, p201.f208.n103.z1.fid...</td>\n",
       "      <td>2</td>\n",
       "    </tr>\n",
       "    <tr>\n",
       "      <th>3</th>\n",
       "      <td>[From, :, dpw, @, sei.cmu.edu, (, David, Wood,...</td>\n",
       "      <td>0</td>\n",
       "    </tr>\n",
       "    <tr>\n",
       "      <th>4</th>\n",
       "      <td>[From, :, prb, @, access.digex.com, (, Pat, ),...</td>\n",
       "      <td>2</td>\n",
       "    </tr>\n",
       "  </tbody>\n",
       "</table>\n",
       "</div>"
      ],
      "text/plain": [
       "                                                text  target\n",
       "0  [From, :, rych, @, festival.ed.ac.uk, (, R, Ha...       1\n",
       "1  [Subject, :, Re, :, Biblical, Backing, of, Kor...       3\n",
       "2  [From, :, Mark.Perew, @, p201.f208.n103.z1.fid...       2\n",
       "3  [From, :, dpw, @, sei.cmu.edu, (, David, Wood,...       0\n",
       "4  [From, :, prb, @, access.digex.com, (, Pat, ),...       2"
      ]
     },
     "execution_count": 78,
     "metadata": {},
     "output_type": "execute_result"
    }
   ],
   "source": [
    "df.head(5)"
   ]
  },
  {
   "cell_type": "code",
   "execution_count": 79,
   "metadata": {},
   "outputs": [],
   "source": [
    "# apply part of speech to raw data and save on the 'pos' column\n",
    "df['pos'] = df['text'].apply(pos_tag)"
   ]
  },
  {
   "cell_type": "code",
   "execution_count": 80,
   "metadata": {},
   "outputs": [
    {
     "data": {
      "text/html": [
       "<div>\n",
       "<style scoped>\n",
       "    .dataframe tbody tr th:only-of-type {\n",
       "        vertical-align: middle;\n",
       "    }\n",
       "\n",
       "    .dataframe tbody tr th {\n",
       "        vertical-align: top;\n",
       "    }\n",
       "\n",
       "    .dataframe thead th {\n",
       "        text-align: right;\n",
       "    }\n",
       "</style>\n",
       "<table border=\"1\" class=\"dataframe\">\n",
       "  <thead>\n",
       "    <tr style=\"text-align: right;\">\n",
       "      <th></th>\n",
       "      <th>text</th>\n",
       "      <th>target</th>\n",
       "      <th>pos</th>\n",
       "    </tr>\n",
       "  </thead>\n",
       "  <tbody>\n",
       "    <tr>\n",
       "      <th>0</th>\n",
       "      <td>[From, :, rych, @, festival.ed.ac.uk, (, R, Ha...</td>\n",
       "      <td>1</td>\n",
       "      <td>[(From, IN), (:, :), (rych, NN), (@, NN), (fes...</td>\n",
       "    </tr>\n",
       "    <tr>\n",
       "      <th>1</th>\n",
       "      <td>[Subject, :, Re, :, Biblical, Backing, of, Kor...</td>\n",
       "      <td>3</td>\n",
       "      <td>[(Subject, JJ), (:, :), (Re, NN), (:, :), (Bib...</td>\n",
       "    </tr>\n",
       "    <tr>\n",
       "      <th>2</th>\n",
       "      <td>[From, :, Mark.Perew, @, p201.f208.n103.z1.fid...</td>\n",
       "      <td>2</td>\n",
       "      <td>[(From, IN), (:, :), (Mark.Perew, NNP), (@, NN...</td>\n",
       "    </tr>\n",
       "    <tr>\n",
       "      <th>3</th>\n",
       "      <td>[From, :, dpw, @, sei.cmu.edu, (, David, Wood,...</td>\n",
       "      <td>0</td>\n",
       "      <td>[(From, IN), (:, :), (dpw, NN), (@, NN), (sei....</td>\n",
       "    </tr>\n",
       "    <tr>\n",
       "      <th>4</th>\n",
       "      <td>[From, :, prb, @, access.digex.com, (, Pat, ),...</td>\n",
       "      <td>2</td>\n",
       "      <td>[(From, IN), (:, :), (prb, NN), (@, NN), (acce...</td>\n",
       "    </tr>\n",
       "  </tbody>\n",
       "</table>\n",
       "</div>"
      ],
      "text/plain": [
       "                                                text  target  \\\n",
       "0  [From, :, rych, @, festival.ed.ac.uk, (, R, Ha...       1   \n",
       "1  [Subject, :, Re, :, Biblical, Backing, of, Kor...       3   \n",
       "2  [From, :, Mark.Perew, @, p201.f208.n103.z1.fid...       2   \n",
       "3  [From, :, dpw, @, sei.cmu.edu, (, David, Wood,...       0   \n",
       "4  [From, :, prb, @, access.digex.com, (, Pat, ),...       2   \n",
       "\n",
       "                                                 pos  \n",
       "0  [(From, IN), (:, :), (rych, NN), (@, NN), (fes...  \n",
       "1  [(Subject, JJ), (:, :), (Re, NN), (:, :), (Bib...  \n",
       "2  [(From, IN), (:, :), (Mark.Perew, NNP), (@, NN...  \n",
       "3  [(From, IN), (:, :), (dpw, NN), (@, NN), (sei....  \n",
       "4  [(From, IN), (:, :), (prb, NN), (@, NN), (acce...  "
      ]
     },
     "execution_count": 80,
     "metadata": {},
     "output_type": "execute_result"
    }
   ],
   "source": [
    "df.head(5)"
   ]
  },
  {
   "cell_type": "markdown",
   "metadata": {},
   "source": [
    "### clean as in part (a) above"
   ]
  },
  {
   "cell_type": "markdown",
   "metadata": {},
   "source": [
    "### ● Remove stop words ● Remove numbers and other non-letter characters ● Stem the words "
   ]
  },
  {
   "cell_type": "code",
   "execution_count": 81,
   "metadata": {},
   "outputs": [],
   "source": [
    "# function for removing stop words\n",
    "def remove_stopwords (l):\n",
    "    clean_list = []\n",
    "    for word in l:\n",
    "        if word.lower() not in stopwords.words('english'):\n",
    "            clean_list.append(word)\n",
    "    return clean_list\n",
    "            "
   ]
  },
  {
   "cell_type": "code",
   "execution_count": 82,
   "metadata": {},
   "outputs": [],
   "source": [
    "# remove stop words\n",
    "df['text'] =df['text'].apply(remove_stopwords)"
   ]
  },
  {
   "cell_type": "code",
   "execution_count": 83,
   "metadata": {},
   "outputs": [],
   "source": [
    "#function for removing numbers and other non-letter characters \n",
    "\n",
    "def remove_no_punctuation (l):\n",
    "    clean_list = []\n",
    "    for word in l:\n",
    "        if not word.isdigit():\n",
    "            if word not in string.punctuation:\n",
    "                clean_list.append(word)\n",
    "    return clean_list\n"
   ]
  },
  {
   "cell_type": "code",
   "execution_count": 84,
   "metadata": {},
   "outputs": [],
   "source": [
    "# remove numbers and other non-letter characters \n",
    "df['text'] =df['text'].apply(remove_no_punctuation)"
   ]
  },
  {
   "cell_type": "code",
   "execution_count": 85,
   "metadata": {},
   "outputs": [
    {
     "data": {
      "text/html": [
       "<div>\n",
       "<style scoped>\n",
       "    .dataframe tbody tr th:only-of-type {\n",
       "        vertical-align: middle;\n",
       "    }\n",
       "\n",
       "    .dataframe tbody tr th {\n",
       "        vertical-align: top;\n",
       "    }\n",
       "\n",
       "    .dataframe thead th {\n",
       "        text-align: right;\n",
       "    }\n",
       "</style>\n",
       "<table border=\"1\" class=\"dataframe\">\n",
       "  <thead>\n",
       "    <tr style=\"text-align: right;\">\n",
       "      <th></th>\n",
       "      <th>text</th>\n",
       "      <th>target</th>\n",
       "      <th>pos</th>\n",
       "    </tr>\n",
       "  </thead>\n",
       "  <tbody>\n",
       "    <tr>\n",
       "      <th>0</th>\n",
       "      <td>[rych, festival.ed.ac.uk, R, Hawkes, Subject, ...</td>\n",
       "      <td>1</td>\n",
       "      <td>[(From, IN), (:, :), (rych, NN), (@, NN), (fes...</td>\n",
       "    </tr>\n",
       "    <tr>\n",
       "      <th>1</th>\n",
       "      <td>[Subject, Biblical, Backing, Koresh, 's, 3-02,...</td>\n",
       "      <td>3</td>\n",
       "      <td>[(Subject, JJ), (:, :), (Re, NN), (:, :), (Bib...</td>\n",
       "    </tr>\n",
       "    <tr>\n",
       "      <th>2</th>\n",
       "      <td>[Mark.Perew, p201.f208.n103.z1.fidonet.org, Su...</td>\n",
       "      <td>2</td>\n",
       "      <td>[(From, IN), (:, :), (Mark.Perew, NNP), (@, NN...</td>\n",
       "    </tr>\n",
       "    <tr>\n",
       "      <th>3</th>\n",
       "      <td>[dpw, sei.cmu.edu, David, Wood, Subject, Reque...</td>\n",
       "      <td>0</td>\n",
       "      <td>[(From, IN), (:, :), (dpw, NN), (@, NN), (sei....</td>\n",
       "    </tr>\n",
       "    <tr>\n",
       "      <th>4</th>\n",
       "      <td>[prb, access.digex.com, Pat, Subject, Conferen...</td>\n",
       "      <td>2</td>\n",
       "      <td>[(From, IN), (:, :), (prb, NN), (@, NN), (acce...</td>\n",
       "    </tr>\n",
       "  </tbody>\n",
       "</table>\n",
       "</div>"
      ],
      "text/plain": [
       "                                                text  target  \\\n",
       "0  [rych, festival.ed.ac.uk, R, Hawkes, Subject, ...       1   \n",
       "1  [Subject, Biblical, Backing, Koresh, 's, 3-02,...       3   \n",
       "2  [Mark.Perew, p201.f208.n103.z1.fidonet.org, Su...       2   \n",
       "3  [dpw, sei.cmu.edu, David, Wood, Subject, Reque...       0   \n",
       "4  [prb, access.digex.com, Pat, Subject, Conferen...       2   \n",
       "\n",
       "                                                 pos  \n",
       "0  [(From, IN), (:, :), (rych, NN), (@, NN), (fes...  \n",
       "1  [(Subject, JJ), (:, :), (Re, NN), (:, :), (Bib...  \n",
       "2  [(From, IN), (:, :), (Mark.Perew, NNP), (@, NN...  \n",
       "3  [(From, IN), (:, :), (dpw, NN), (@, NN), (sei....  \n",
       "4  [(From, IN), (:, :), (prb, NN), (@, NN), (acce...  "
      ]
     },
     "execution_count": 85,
     "metadata": {},
     "output_type": "execute_result"
    }
   ],
   "source": [
    "df.head(5)"
   ]
  },
  {
   "cell_type": "code",
   "execution_count": 86,
   "metadata": {},
   "outputs": [],
   "source": [
    "#update 'pos' column\n",
    "for index,row in df.iterrows():\n",
    "    clean_list=[]\n",
    "    for word_pos in row['pos']:\n",
    "        if word_pos[0] in row['text']:\n",
    "            clean_list.append(word_pos)  \n",
    "    df.at[index,'pos'] = clean_list\n",
    "       "
   ]
  },
  {
   "cell_type": "code",
   "execution_count": 87,
   "metadata": {},
   "outputs": [],
   "source": [
    "#return only noun\n",
    "noun = ['NN','NNS','NNP','NNPS']\n",
    "def nouns (l):\n",
    "    new_list = []\n",
    "    for word_tag in l:\n",
    "        if word_tag[1] in noun:\n",
    "            new_list.append(word_tag)\n",
    "    return new_list"
   ]
  },
  {
   "cell_type": "code",
   "execution_count": 88,
   "metadata": {},
   "outputs": [],
   "source": [
    "df['pos'] = df['pos'].apply(nouns)"
   ]
  },
  {
   "cell_type": "code",
   "execution_count": 89,
   "metadata": {},
   "outputs": [
    {
     "data": {
      "text/html": [
       "<div>\n",
       "<style scoped>\n",
       "    .dataframe tbody tr th:only-of-type {\n",
       "        vertical-align: middle;\n",
       "    }\n",
       "\n",
       "    .dataframe tbody tr th {\n",
       "        vertical-align: top;\n",
       "    }\n",
       "\n",
       "    .dataframe thead th {\n",
       "        text-align: right;\n",
       "    }\n",
       "</style>\n",
       "<table border=\"1\" class=\"dataframe\">\n",
       "  <thead>\n",
       "    <tr style=\"text-align: right;\">\n",
       "      <th></th>\n",
       "      <th>text</th>\n",
       "      <th>target</th>\n",
       "      <th>pos</th>\n",
       "    </tr>\n",
       "  </thead>\n",
       "  <tbody>\n",
       "    <tr>\n",
       "      <th>0</th>\n",
       "      <td>[rych, festival.ed.ac.uk, R, Hawkes, Subject, ...</td>\n",
       "      <td>1</td>\n",
       "      <td>[(rych, NN), (festival.ed.ac.uk, NN), (R, NNP)...</td>\n",
       "    </tr>\n",
       "    <tr>\n",
       "      <th>1</th>\n",
       "      <td>[Subject, Biblical, Backing, Koresh, 's, 3-02,...</td>\n",
       "      <td>3</td>\n",
       "      <td>[(Backing, NNP), (Koresh, NNP), (Tape, NN), (C...</td>\n",
       "    </tr>\n",
       "    <tr>\n",
       "      <th>2</th>\n",
       "      <td>[Mark.Perew, p201.f208.n103.z1.fidonet.org, Su...</td>\n",
       "      <td>2</td>\n",
       "      <td>[(Mark.Perew, NNP), (p201.f208.n103.z1.fidonet...</td>\n",
       "    </tr>\n",
       "    <tr>\n",
       "      <th>3</th>\n",
       "      <td>[dpw, sei.cmu.edu, David, Wood, Subject, Reque...</td>\n",
       "      <td>0</td>\n",
       "      <td>[(dpw, NN), (sei.cmu.edu, NN), (David, NNP), (...</td>\n",
       "    </tr>\n",
       "    <tr>\n",
       "      <th>4</th>\n",
       "      <td>[prb, access.digex.com, Pat, Subject, Conferen...</td>\n",
       "      <td>2</td>\n",
       "      <td>[(prb, NN), (access.digex.com, NN), (Pat, NNP)...</td>\n",
       "    </tr>\n",
       "  </tbody>\n",
       "</table>\n",
       "</div>"
      ],
      "text/plain": [
       "                                                text  target  \\\n",
       "0  [rych, festival.ed.ac.uk, R, Hawkes, Subject, ...       1   \n",
       "1  [Subject, Biblical, Backing, Koresh, 's, 3-02,...       3   \n",
       "2  [Mark.Perew, p201.f208.n103.z1.fidonet.org, Su...       2   \n",
       "3  [dpw, sei.cmu.edu, David, Wood, Subject, Reque...       0   \n",
       "4  [prb, access.digex.com, Pat, Subject, Conferen...       2   \n",
       "\n",
       "                                                 pos  \n",
       "0  [(rych, NN), (festival.ed.ac.uk, NN), (R, NNP)...  \n",
       "1  [(Backing, NNP), (Koresh, NNP), (Tape, NN), (C...  \n",
       "2  [(Mark.Perew, NNP), (p201.f208.n103.z1.fidonet...  \n",
       "3  [(dpw, NN), (sei.cmu.edu, NN), (David, NNP), (...  \n",
       "4  [(prb, NN), (access.digex.com, NN), (Pat, NNP)...  "
      ]
     },
     "execution_count": 89,
     "metadata": {},
     "output_type": "execute_result"
    }
   ],
   "source": [
    "df.head(5)"
   ]
  },
  {
   "cell_type": "code",
   "execution_count": 90,
   "metadata": {},
   "outputs": [],
   "source": [
    "#update to the result to text which only extract nouns\n",
    "for index,row in df.iterrows():\n",
    "    noun_list=[]\n",
    "    for word_pos in row['pos']:\n",
    "        noun_list.append(word_pos[0]) \n",
    "             \n",
    "    df.at[index,'text'] = noun_list"
   ]
  },
  {
   "cell_type": "code",
   "execution_count": 91,
   "metadata": {},
   "outputs": [
    {
     "data": {
      "text/html": [
       "<div>\n",
       "<style scoped>\n",
       "    .dataframe tbody tr th:only-of-type {\n",
       "        vertical-align: middle;\n",
       "    }\n",
       "\n",
       "    .dataframe tbody tr th {\n",
       "        vertical-align: top;\n",
       "    }\n",
       "\n",
       "    .dataframe thead th {\n",
       "        text-align: right;\n",
       "    }\n",
       "</style>\n",
       "<table border=\"1\" class=\"dataframe\">\n",
       "  <thead>\n",
       "    <tr style=\"text-align: right;\">\n",
       "      <th></th>\n",
       "      <th>text</th>\n",
       "      <th>target</th>\n",
       "      <th>pos</th>\n",
       "    </tr>\n",
       "  </thead>\n",
       "  <tbody>\n",
       "    <tr>\n",
       "      <th>0</th>\n",
       "      <td>[rych, festival.ed.ac.uk, R, Hawkes, Subject, ...</td>\n",
       "      <td>1</td>\n",
       "      <td>[(rych, NN), (festival.ed.ac.uk, NN), (R, NNP)...</td>\n",
       "    </tr>\n",
       "    <tr>\n",
       "      <th>1</th>\n",
       "      <td>[Backing, Koresh, Tape, Cites, kmcvay, oneb.al...</td>\n",
       "      <td>3</td>\n",
       "      <td>[(Backing, NNP), (Koresh, NNP), (Tape, NN), (C...</td>\n",
       "    </tr>\n",
       "    <tr>\n",
       "      <th>2</th>\n",
       "      <td>[Mark.Perew, p201.f208.n103.z1.fidonet.org, Su...</td>\n",
       "      <td>2</td>\n",
       "      <td>[(Mark.Perew, NNP), (p201.f208.n103.z1.fidonet...</td>\n",
       "    </tr>\n",
       "    <tr>\n",
       "      <th>3</th>\n",
       "      <td>[dpw, sei.cmu.edu, David, Wood, Subject, Reque...</td>\n",
       "      <td>0</td>\n",
       "      <td>[(dpw, NN), (sei.cmu.edu, NN), (David, NNP), (...</td>\n",
       "    </tr>\n",
       "    <tr>\n",
       "      <th>4</th>\n",
       "      <td>[prb, access.digex.com, Pat, Subject, Conferen...</td>\n",
       "      <td>2</td>\n",
       "      <td>[(prb, NN), (access.digex.com, NN), (Pat, NNP)...</td>\n",
       "    </tr>\n",
       "  </tbody>\n",
       "</table>\n",
       "</div>"
      ],
      "text/plain": [
       "                                                text  target  \\\n",
       "0  [rych, festival.ed.ac.uk, R, Hawkes, Subject, ...       1   \n",
       "1  [Backing, Koresh, Tape, Cites, kmcvay, oneb.al...       3   \n",
       "2  [Mark.Perew, p201.f208.n103.z1.fidonet.org, Su...       2   \n",
       "3  [dpw, sei.cmu.edu, David, Wood, Subject, Reque...       0   \n",
       "4  [prb, access.digex.com, Pat, Subject, Conferen...       2   \n",
       "\n",
       "                                                 pos  \n",
       "0  [(rych, NN), (festival.ed.ac.uk, NN), (R, NNP)...  \n",
       "1  [(Backing, NNP), (Koresh, NNP), (Tape, NN), (C...  \n",
       "2  [(Mark.Perew, NNP), (p201.f208.n103.z1.fidonet...  \n",
       "3  [(dpw, NN), (sei.cmu.edu, NN), (David, NNP), (...  \n",
       "4  [(prb, NN), (access.digex.com, NN), (Pat, NNP)...  "
      ]
     },
     "execution_count": 91,
     "metadata": {},
     "output_type": "execute_result"
    }
   ],
   "source": [
    "df.head(5)"
   ]
  },
  {
   "cell_type": "code",
   "execution_count": 92,
   "metadata": {},
   "outputs": [],
   "source": [
    "# Stem the words \n",
    "def stem_word (l):\n",
    "    stem_list =[]\n",
    "    for word in l:\n",
    "        stem_list.append(sno.stem(word))\n",
    "    return stem_list"
   ]
  },
  {
   "cell_type": "code",
   "execution_count": 93,
   "metadata": {},
   "outputs": [],
   "source": [
    "df['text'] = df['text'].apply(stem_word)"
   ]
  },
  {
   "cell_type": "code",
   "execution_count": 94,
   "metadata": {},
   "outputs": [],
   "source": [
    "# join the text for bag of word\n",
    "df['text_join'] = df['text'].apply(lambda x: ' '.join(x))"
   ]
  },
  {
   "cell_type": "code",
   "execution_count": 95,
   "metadata": {},
   "outputs": [
    {
     "data": {
      "text/html": [
       "<div>\n",
       "<style scoped>\n",
       "    .dataframe tbody tr th:only-of-type {\n",
       "        vertical-align: middle;\n",
       "    }\n",
       "\n",
       "    .dataframe tbody tr th {\n",
       "        vertical-align: top;\n",
       "    }\n",
       "\n",
       "    .dataframe thead th {\n",
       "        text-align: right;\n",
       "    }\n",
       "</style>\n",
       "<table border=\"1\" class=\"dataframe\">\n",
       "  <thead>\n",
       "    <tr style=\"text-align: right;\">\n",
       "      <th></th>\n",
       "      <th>text</th>\n",
       "      <th>target</th>\n",
       "      <th>pos</th>\n",
       "      <th>text_join</th>\n",
       "    </tr>\n",
       "  </thead>\n",
       "  <tbody>\n",
       "    <tr>\n",
       "      <th>0</th>\n",
       "      <td>[rych, festival.ed.ac.uk, r, hawk, subject, te...</td>\n",
       "      <td>1</td>\n",
       "      <td>[(rych, NN), (festival.ed.ac.uk, NN), (R, NNP)...</td>\n",
       "      <td>rych festival.ed.ac.uk r hawk subject textur r...</td>\n",
       "    </tr>\n",
       "    <tr>\n",
       "      <th>1</th>\n",
       "      <td>[back, koresh, tape, cite, kmcvay, oneb.almana...</td>\n",
       "      <td>3</td>\n",
       "      <td>[(Backing, NNP), (Koresh, NNP), (Tape, NN), (C...</td>\n",
       "      <td>back koresh tape cite kmcvay oneb.almanac.bc.c...</td>\n",
       "    </tr>\n",
       "    <tr>\n",
       "      <th>2</th>\n",
       "      <td>[mark.perew, p201.f208.n103.z1.fidonet.org, su...</td>\n",
       "      <td>2</td>\n",
       "      <td>[(Mark.Perew, NNP), (p201.f208.n103.z1.fidonet...</td>\n",
       "      <td>mark.perew p201.f208.n103.z1.fidonet.org subje...</td>\n",
       "    </tr>\n",
       "    <tr>\n",
       "      <th>3</th>\n",
       "      <td>[dpw, sei.cmu.edu, david, wood, subject, reque...</td>\n",
       "      <td>0</td>\n",
       "      <td>[(dpw, NN), (sei.cmu.edu, NN), (David, NNP), (...</td>\n",
       "      <td>dpw sei.cmu.edu david wood subject request sup...</td>\n",
       "    </tr>\n",
       "    <tr>\n",
       "      <th>4</th>\n",
       "      <td>[prb, access.digex.com, pat, subject, confer, ...</td>\n",
       "      <td>2</td>\n",
       "      <td>[(prb, NN), (access.digex.com, NN), (Pat, NNP)...</td>\n",
       "      <td>prb access.digex.com pat subject confer man lu...</td>\n",
       "    </tr>\n",
       "  </tbody>\n",
       "</table>\n",
       "</div>"
      ],
      "text/plain": [
       "                                                text  target  \\\n",
       "0  [rych, festival.ed.ac.uk, r, hawk, subject, te...       1   \n",
       "1  [back, koresh, tape, cite, kmcvay, oneb.almana...       3   \n",
       "2  [mark.perew, p201.f208.n103.z1.fidonet.org, su...       2   \n",
       "3  [dpw, sei.cmu.edu, david, wood, subject, reque...       0   \n",
       "4  [prb, access.digex.com, pat, subject, confer, ...       2   \n",
       "\n",
       "                                                 pos  \\\n",
       "0  [(rych, NN), (festival.ed.ac.uk, NN), (R, NNP)...   \n",
       "1  [(Backing, NNP), (Koresh, NNP), (Tape, NN), (C...   \n",
       "2  [(Mark.Perew, NNP), (p201.f208.n103.z1.fidonet...   \n",
       "3  [(dpw, NN), (sei.cmu.edu, NN), (David, NNP), (...   \n",
       "4  [(prb, NN), (access.digex.com, NN), (Pat, NNP)...   \n",
       "\n",
       "                                           text_join  \n",
       "0  rych festival.ed.ac.uk r hawk subject textur r...  \n",
       "1  back koresh tape cite kmcvay oneb.almanac.bc.c...  \n",
       "2  mark.perew p201.f208.n103.z1.fidonet.org subje...  \n",
       "3  dpw sei.cmu.edu david wood subject request sup...  \n",
       "4  prb access.digex.com pat subject confer man lu...  "
      ]
     },
     "execution_count": 95,
     "metadata": {},
     "output_type": "execute_result"
    }
   ],
   "source": [
    "df.head(5)"
   ]
  },
  {
   "cell_type": "markdown",
   "metadata": {},
   "source": [
    "### obtain a bag-of-words tf-idf weighted vector representation using only the nouns"
   ]
  },
  {
   "cell_type": "code",
   "execution_count": 96,
   "metadata": {},
   "outputs": [],
   "source": [
    "cv = CountVectorizer()"
   ]
  },
  {
   "cell_type": "code",
   "execution_count": 97,
   "metadata": {},
   "outputs": [],
   "source": [
    "bow = cv.fit_transform(df['text_join'])"
   ]
  },
  {
   "cell_type": "code",
   "execution_count": 98,
   "metadata": {},
   "outputs": [
    {
     "name": "stdout",
     "output_type": "stream",
     "text": [
      "(2034, 19799)\n"
     ]
    }
   ],
   "source": [
    "print(bow.shape)"
   ]
  },
  {
   "cell_type": "code",
   "execution_count": 99,
   "metadata": {},
   "outputs": [],
   "source": [
    "tfidf = TfidfTransformer().fit_transform(bow)"
   ]
  },
  {
   "cell_type": "markdown",
   "metadata": {},
   "source": [
    "#### Repeat question (c). "
   ]
  },
  {
   "cell_type": "code",
   "execution_count": 100,
   "metadata": {},
   "outputs": [],
   "source": [
    "X = tfidf\n",
    "y = df['target']"
   ]
  },
  {
   "cell_type": "code",
   "execution_count": 101,
   "metadata": {},
   "outputs": [],
   "source": [
    "#Split the data randomly into training and testing set (70-30 %) "
   ]
  },
  {
   "cell_type": "code",
   "execution_count": 102,
   "metadata": {},
   "outputs": [],
   "source": [
    "X_train,X_test,y_train,y_test = train_test_split(X,y,test_size=0.3,random_state=302)"
   ]
  },
  {
   "cell_type": "code",
   "execution_count": 103,
   "metadata": {},
   "outputs": [],
   "source": [
    "#Train SVM and report confusion matrix. "
   ]
  },
  {
   "cell_type": "code",
   "execution_count": 104,
   "metadata": {},
   "outputs": [],
   "source": [
    "svm_noun = svm.SVC(C=1.0, kernel='linear', degree=3, gamma='auto')"
   ]
  },
  {
   "cell_type": "code",
   "execution_count": 105,
   "metadata": {},
   "outputs": [],
   "source": [
    "svm_noun.fit(X_train,y_train)\n",
    "pre_noun = svm_noun.predict(X_test)"
   ]
  },
  {
   "cell_type": "code",
   "execution_count": 106,
   "metadata": {},
   "outputs": [
    {
     "data": {
      "text/plain": [
       "<matplotlib.axes._subplots.AxesSubplot at 0x1b956988278>"
      ]
     },
     "execution_count": 106,
     "metadata": {},
     "output_type": "execute_result"
    },
    {
     "data": {
      "image/png": "[encoded data removed]",
      "text/plain": [
       "<Figure size 432x288 with 2 Axes>"
      ]
     },
     "metadata": {
      "needs_background": "light"
     },
     "output_type": "display_data"
    }
   ],
   "source": [
    "svm_cm=metrics.confusion_matrix(y_test,pre_noun)\n",
    "plot_confusion_matrix(svm_cm)"
   ]
  },
  {
   "cell_type": "code",
   "execution_count": 107,
   "metadata": {},
   "outputs": [
    {
     "name": "stdout",
     "output_type": "stream",
     "text": [
      "0.94\n"
     ]
    }
   ],
   "source": [
    "# report accuracy score\n",
    "print(round(metrics.accuracy_score(y_test,pre_noun),2))\n"
   ]
  },
  {
   "cell_type": "markdown",
   "metadata": {},
   "source": [
    "<font color=#008000> For SVM model, the accuracy was improved to 0.94 from 0.93 by only applying nouns for the text classification. The size of the vocabulary which only included nouns is 19799, while the other one is 202303. The size of previous one is about 10 times larger than the one only with nouns."
   ]
  },
  {
   "cell_type": "code",
   "execution_count": 108,
   "metadata": {},
   "outputs": [],
   "source": [
    "#Train Multinomial NB and report confusion matrix "
   ]
  },
  {
   "cell_type": "code",
   "execution_count": 109,
   "metadata": {},
   "outputs": [],
   "source": [
    "nb = MultinomialNB()\n",
    "nb.fit(X_train,y_train)\n",
    "pre_noun_nb = nb.predict(X_test)"
   ]
  },
  {
   "cell_type": "code",
   "execution_count": 110,
   "metadata": {},
   "outputs": [
    {
     "data": {
      "text/plain": [
       "<matplotlib.axes._subplots.AxesSubplot at 0x1b9569026a0>"
      ]
     },
     "execution_count": 110,
     "metadata": {},
     "output_type": "execute_result"
    },
    {
     "data": {
      "image/png": "[encoded data removed]",
      "text/plain": [
       "<Figure size 432x288 with 2 Axes>"
      ]
     },
     "metadata": {
      "needs_background": "light"
     },
     "output_type": "display_data"
    }
   ],
   "source": [
    "nb_cm =metrics.confusion_matrix(y_test,pre_noun_nb)\n",
    "plot_confusion_matrix(nb_cm)"
   ]
  },
  {
   "cell_type": "code",
   "execution_count": 111,
   "metadata": {},
   "outputs": [
    {
     "name": "stdout",
     "output_type": "stream",
     "text": [
      "0.93\n"
     ]
    }
   ],
   "source": [
    "# report accuracy score\n",
    "print(round(metrics.accuracy_score(y_test,pre_noun_nb),2))"
   ]
  },
  {
   "cell_type": "markdown",
   "metadata": {},
   "source": [
    "<font color=#008000> For Multinomial model, the accuracy was improved to 0.93 from 0.86 by only applying nouns for the text classification."
   ]
  },
  {
   "cell_type": "markdown",
   "metadata": {},
   "source": []
  },
  {
   "cell_type": "markdown",
   "metadata": {},
   "source": [
    "### References"
   ]
  },
  {
   "cell_type": "markdown",
   "metadata": {},
   "source": [
    " * [1] Python, T., Ninja, H. and Bram, W. (2019). Tokenize words in a list of sentences Python. [online] Stack Overflow. Available at: https://stackoverflow.com/questions/21361073/tokenize-words-in-a-list-of-sentences-python [Accessed 9 Jul. 2019].\n",
    " * [2] Nltk.org. (2019). Collocations. [online] Available at: http://www.nltk.org/howto/collocations.html [Accessed 9 Jul. 2019].\n",
    " * [3] Medium. (2019). Collocations — identifying phrases that act like single words in Natural Language Processing. [online] Available at: https://medium.com/@nicharuch/collocations-identifying-phrases-that-act-like-individual-words-in-nlp-f58a93a2f84a [Accessed 9 Jul. 2019].\n",
    " * [4] Users.umiacs.umd.edu. (2019). Assignment 2. [online] Available at: http://users.umiacs.umd.edu/~resnik/ling773_sp2018/assignments/assignment2.html [Accessed 9 Jul. 2019].\n",
    " * [5] \"Confusion matrix — scikit-learn 0.21.2 documentation\", Scikit-learn.org, 2019. [Online]. Available: https://scikit-learn.org/stable/auto_examples/model_selection/plot_confusion_matrix.html. [Accessed: 16- Jul- 2019]."
   ]
  },
  {
   "cell_type": "code",
   "execution_count": null,
   "metadata": {},
   "outputs": [],
   "source": []
  }
 ],
 "metadata": {
  "kernelspec": {
   "display_name": "Python 3",
   "language": "python",
   "name": "python3"
  },
  "language_info": {
   "codemirror_mode": {
    "name": "ipython",
    "version": 3
   },
   "file_extension": ".py",
   "mimetype": "text/x-python",
   "name": "python",
   "nbconvert_exporter": "python",
   "pygments_lexer": "ipython3",
   "version": "3.6.5"
  }
 },
 "nbformat": 4,
 "nbformat_minor": 2
}
